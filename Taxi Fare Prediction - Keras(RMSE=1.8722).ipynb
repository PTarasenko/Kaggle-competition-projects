{
 "cells": [
  {
   "cell_type": "markdown",
   "metadata": {},
   "source": [
    "# New York City Taxi Fare Prediction - Feature Engineering + Keras"
   ]
  },
  {
   "cell_type": "markdown",
   "metadata": {},
   "source": [
    "In this Project, I used all 55 million records. After every manipulation with features I had to save and relaunch my dataframes, because I had many issues with memory. I will skip this steps in my notebook. "
   ]
  },
  {
   "cell_type": "code",
   "execution_count": 1,
   "metadata": {},
   "outputs": [
    {
     "name": "stderr",
     "output_type": "stream",
     "text": [
      "C:\\Users\\FZ_DarkSider\\Anaconda3\\lib\\site-packages\\h5py\\__init__.py:36: FutureWarning: Conversion of the second argument of issubdtype from `float` to `np.floating` is deprecated. In future, it will be treated as `np.float64 == np.dtype(float).type`.\n",
      "  from ._conv import register_converters as _register_converters\n",
      "Using TensorFlow backend.\n"
     ]
    }
   ],
   "source": [
    "# load Python modules\n",
    "\n",
    "import pandas as pd\n",
    "import seaborn as sns\n",
    "import numpy as np\n",
    "import matplotlib.pyplot as plt\n",
    "from datetime import datetime\n",
    "from sklearn.preprocessing import StandardScaler\n",
    "from sklearn.model_selection import train_test_split\n",
    "\n",
    "from keras.models import Sequential\n",
    "from keras.layers import Dense"
   ]
  },
  {
   "cell_type": "markdown",
   "metadata": {},
   "source": [
    "# Load main Dataset"
   ]
  },
  {
   "cell_type": "markdown",
   "metadata": {},
   "source": [
    "<span style=\"color:#be0119\"><b>\n",
    "--- comment ---</b>\n",
    "\n",
    "<span style=\"color:#1e488f\"> This training dataset has 7 columns with 55423855 records, what takes 3.2 GB of memory. "
   ]
  },
  {
   "cell_type": "code",
   "execution_count": 3,
   "metadata": {},
   "outputs": [],
   "source": [
    "df = pd.read_csv('train.csv')"
   ]
  },
  {
   "cell_type": "code",
   "execution_count": 53,
   "metadata": {},
   "outputs": [
    {
     "name": "stdout",
     "output_type": "stream",
     "text": [
      "<class 'pandas.core.frame.DataFrame'>\n",
      "Int64Index: 54367523 entries, 0 to 55423855\n",
      "Data columns (total 7 columns):\n",
      "key                  object\n",
      "fare_amount          float64\n",
      "pickup_datetime      object\n",
      "pickup_longitude     float64\n",
      "pickup_latitude      float64\n",
      "dropoff_longitude    float64\n",
      "dropoff_latitude     float64\n",
      "dtypes: float64(5), object(2)\n",
      "memory usage: 3.2+ GB\n"
     ]
    }
   ],
   "source": [
    "df.info()"
   ]
  },
  {
   "cell_type": "markdown",
   "metadata": {},
   "source": [
    "# Check for 0 and NaN"
   ]
  },
  {
   "cell_type": "markdown",
   "metadata": {},
   "source": [
    "<span style=\"color:#be0119\"><b>\n",
    "--- comment ---</b>\n",
    "\n",
    "<span style=\"color:#1e488f\"> As we have a lot of data, I decided drop all zero values and NaN values from dataset before any features manipulation."
   ]
  },
  {
   "cell_type": "code",
   "execution_count": 8,
   "metadata": {},
   "outputs": [
    {
     "name": "stdout",
     "output_type": "stream",
     "text": [
      "NaN values:\n",
      "key: 0\n",
      "fare_amount: 0\n",
      "pickup_datetime: 0\n",
      "pickup_longitude: 0\n",
      "pickup_latitude: 0\n",
      "dropoff_longitude: 376\n",
      "dropoff_latitude: 376\n",
      "--------------------------\n",
      "Zerro values\n",
      "key: 0\n",
      "fare_amount: 1380\n",
      "pickup_datetime: 0\n",
      "pickup_longitude: 1055693\n",
      "pickup_latitude: 1052158\n",
      "dropoff_longitude: 1052745\n",
      "dropoff_latitude: 1049666\n"
     ]
    }
   ],
   "source": [
    "print('NaN values:')\n",
    "print('key:',df.key.isnull().sum())\n",
    "print('fare_amount:',df.fare_amount.isnull().sum())\n",
    "print('pickup_datetime:',df.pickup_datetime.isnull().sum())\n",
    "print('pickup_longitude:',df.pickup_longitude.isnull().sum())\n",
    "print('pickup_latitude:',df.pickup_latitude.isnull().sum())\n",
    "print('dropoff_longitude:',df.dropoff_longitude.isnull().sum())\n",
    "print('dropoff_latitude:',df.dropoff_latitude.isnull().sum())\n",
    "print(\"--------------------------\")\n",
    "print('Zerro values')\n",
    "print('key:',(df.key == 0).sum())\n",
    "print('fare_amount:',(df.fare_amount == 0).sum())\n",
    "print('pickup_datetime:',(df.pickup_datetime == 0).sum())\n",
    "print('pickup_longitude:',(df.pickup_longitude == 0).sum())\n",
    "print('pickup_latitude:',(df.pickup_latitude == 0).sum())\n",
    "print('dropoff_longitude:',(df.dropoff_longitude == 0).sum())\n",
    "print('dropoff_latitude:',(df.dropoff_latitude == 0).sum())"
   ]
  },
  {
   "cell_type": "code",
   "execution_count": 9,
   "metadata": {},
   "outputs": [],
   "source": [
    "# Drop all zerros and NaN's\n",
    "df.dropna(inplace=True)"
   ]
  },
  {
   "cell_type": "code",
   "execution_count": 10,
   "metadata": {},
   "outputs": [],
   "source": [
    "df = df.loc[df.fare_amount != 0]"
   ]
  },
  {
   "cell_type": "code",
   "execution_count": null,
   "metadata": {},
   "outputs": [],
   "source": [
    "df = df.loc[df.pickup_longitude != 0]"
   ]
  },
  {
   "cell_type": "code",
   "execution_count": null,
   "metadata": {},
   "outputs": [],
   "source": [
    "df = df.loc[df.pickup_latitude != 0]"
   ]
  },
  {
   "cell_type": "code",
   "execution_count": null,
   "metadata": {},
   "outputs": [],
   "source": [
    "df = df.loc[df.dropoff_longitude != 0]"
   ]
  },
  {
   "cell_type": "code",
   "execution_count": null,
   "metadata": {},
   "outputs": [],
   "source": [
    "df = df.loc[df.dropoff_latitude != 0]"
   ]
  },
  {
   "cell_type": "markdown",
   "metadata": {},
   "source": [
    "# Drop passenger_count"
   ]
  },
  {
   "cell_type": "markdown",
   "metadata": {},
   "source": [
    "<span style=\"color:#be0119\"><b>\n",
    "--- comment ---</b>\n",
    "\n",
    "<span style=\"color:#1e488f\"> As we can see most rides with only one passenger, and also number of passengers almost never affect the price, so I decided drop this features to free up some memory."
   ]
  },
  {
   "cell_type": "code",
   "execution_count": 35,
   "metadata": {},
   "outputs": [
    {
     "data": {
      "image/png": "[encoded data removed]",
      "text/plain": [
       "<matplotlib.figure.Figure at 0x1e68ed5d6a0>"
      ]
     },
     "metadata": {},
     "output_type": "display_data"
    }
   ],
   "source": [
    "g = sns.countplot(df.passenger_count)"
   ]
  },
  {
   "cell_type": "code",
   "execution_count": null,
   "metadata": {},
   "outputs": [],
   "source": [
    "df.drop('passenger_count', axis=1, inplace=True)"
   ]
  },
  {
   "cell_type": "markdown",
   "metadata": {},
   "source": [
    "# Check correlation on raw longitude"
   ]
  },
  {
   "cell_type": "markdown",
   "metadata": {},
   "source": [
    "<span style=\"color:#be0119\"><b>\n",
    "--- comment ---</b>\n",
    "\n",
    "<span style=\"color:#1e488f\"> Here I just decided to check how small correlation between my target and one of the feature first."
   ]
  },
  {
   "cell_type": "code",
   "execution_count": 11,
   "metadata": {},
   "outputs": [
    {
     "data": {
      "text/html": [
       "<div>\n",
       "<style scoped>\n",
       "    .dataframe tbody tr th:only-of-type {\n",
       "        vertical-align: middle;\n",
       "    }\n",
       "\n",
       "    .dataframe tbody tr th {\n",
       "        vertical-align: top;\n",
       "    }\n",
       "\n",
       "    .dataframe thead th {\n",
       "        text-align: right;\n",
       "    }\n",
       "</style>\n",
       "<table border=\"1\" class=\"dataframe\">\n",
       "  <thead>\n",
       "    <tr style=\"text-align: right;\">\n",
       "      <th></th>\n",
       "      <th>pickup_longitude</th>\n",
       "      <th>fare_amount</th>\n",
       "    </tr>\n",
       "  </thead>\n",
       "  <tbody>\n",
       "    <tr>\n",
       "      <th>pickup_longitude</th>\n",
       "      <td>1.000000</td>\n",
       "      <td>0.004136</td>\n",
       "    </tr>\n",
       "    <tr>\n",
       "      <th>fare_amount</th>\n",
       "      <td>0.004136</td>\n",
       "      <td>1.000000</td>\n",
       "    </tr>\n",
       "  </tbody>\n",
       "</table>\n",
       "</div>"
      ],
      "text/plain": [
       "                  pickup_longitude  fare_amount\n",
       "pickup_longitude          1.000000     0.004136\n",
       "fare_amount               0.004136     1.000000"
      ]
     },
     "execution_count": 11,
     "metadata": {},
     "output_type": "execute_result"
    }
   ],
   "source": [
    "check_corr = df[['pickup_longitude', 'fare_amount']].corr()\n",
    "check_corr"
   ]
  },
  {
   "cell_type": "markdown",
   "metadata": {},
   "source": [
    "# Creating features from longitude and latitude"
   ]
  },
  {
   "cell_type": "markdown",
   "metadata": {},
   "source": [
    "<span style=\"color:#be0119\"><b>\n",
    "--- comment ---</b>\n",
    "\n",
    "<span style=\"color:#1e488f\"> I decided create 3 new features from location. I also took Central Park coordinates as center of NYC. \n",
    "    \n",
    "1 - Distance between two points (pickup and dropoff) \n",
    "\n",
    "2 - Distance from the center (pickup) \n",
    "\n",
    "3 - Distance from the center (dropoff)."
   ]
  },
  {
   "cell_type": "code",
   "execution_count": 8,
   "metadata": {},
   "outputs": [
    {
     "data": {
      "text/html": [
       "<div>\n",
       "<style scoped>\n",
       "    .dataframe tbody tr th:only-of-type {\n",
       "        vertical-align: middle;\n",
       "    }\n",
       "\n",
       "    .dataframe tbody tr th {\n",
       "        vertical-align: top;\n",
       "    }\n",
       "\n",
       "    .dataframe thead th {\n",
       "        text-align: right;\n",
       "    }\n",
       "</style>\n",
       "<table border=\"1\" class=\"dataframe\">\n",
       "  <thead>\n",
       "    <tr style=\"text-align: right;\">\n",
       "      <th></th>\n",
       "      <th>key</th>\n",
       "      <th>fare_amount</th>\n",
       "      <th>pickup_datetime</th>\n",
       "      <th>pickup_longitude</th>\n",
       "      <th>pickup_latitude</th>\n",
       "      <th>dropoff_longitude</th>\n",
       "      <th>dropoff_latitude</th>\n",
       "    </tr>\n",
       "  </thead>\n",
       "  <tbody>\n",
       "    <tr>\n",
       "      <th>0</th>\n",
       "      <td>2009-06-15 17:26:21.0000001</td>\n",
       "      <td>4.5</td>\n",
       "      <td>2009-06-15 17:26:21 UTC</td>\n",
       "      <td>-73.844311</td>\n",
       "      <td>40.721319</td>\n",
       "      <td>-73.841610</td>\n",
       "      <td>40.712278</td>\n",
       "    </tr>\n",
       "    <tr>\n",
       "      <th>1</th>\n",
       "      <td>2010-01-05 16:52:16.0000002</td>\n",
       "      <td>16.9</td>\n",
       "      <td>2010-01-05 16:52:16 UTC</td>\n",
       "      <td>-74.016048</td>\n",
       "      <td>40.711303</td>\n",
       "      <td>-73.979268</td>\n",
       "      <td>40.782004</td>\n",
       "    </tr>\n",
       "    <tr>\n",
       "      <th>2</th>\n",
       "      <td>2011-08-18 00:35:00.00000049</td>\n",
       "      <td>5.7</td>\n",
       "      <td>2011-08-18 00:35:00 UTC</td>\n",
       "      <td>-73.982738</td>\n",
       "      <td>40.761270</td>\n",
       "      <td>-73.991242</td>\n",
       "      <td>40.750562</td>\n",
       "    </tr>\n",
       "    <tr>\n",
       "      <th>3</th>\n",
       "      <td>2012-04-21 04:30:42.0000001</td>\n",
       "      <td>7.7</td>\n",
       "      <td>2012-04-21 04:30:42 UTC</td>\n",
       "      <td>-73.987130</td>\n",
       "      <td>40.733143</td>\n",
       "      <td>-73.991567</td>\n",
       "      <td>40.758092</td>\n",
       "    </tr>\n",
       "    <tr>\n",
       "      <th>4</th>\n",
       "      <td>2010-03-09 07:51:00.000000135</td>\n",
       "      <td>5.3</td>\n",
       "      <td>2010-03-09 07:51:00 UTC</td>\n",
       "      <td>-73.968095</td>\n",
       "      <td>40.768008</td>\n",
       "      <td>-73.956655</td>\n",
       "      <td>40.783762</td>\n",
       "    </tr>\n",
       "  </tbody>\n",
       "</table>\n",
       "</div>"
      ],
      "text/plain": [
       "                             key  fare_amount          pickup_datetime  \\\n",
       "0    2009-06-15 17:26:21.0000001          4.5  2009-06-15 17:26:21 UTC   \n",
       "1    2010-01-05 16:52:16.0000002         16.9  2010-01-05 16:52:16 UTC   \n",
       "2   2011-08-18 00:35:00.00000049          5.7  2011-08-18 00:35:00 UTC   \n",
       "3    2012-04-21 04:30:42.0000001          7.7  2012-04-21 04:30:42 UTC   \n",
       "4  2010-03-09 07:51:00.000000135          5.3  2010-03-09 07:51:00 UTC   \n",
       "\n",
       "   pickup_longitude  pickup_latitude  dropoff_longitude  dropoff_latitude  \n",
       "0        -73.844311        40.721319         -73.841610         40.712278  \n",
       "1        -74.016048        40.711303         -73.979268         40.782004  \n",
       "2        -73.982738        40.761270         -73.991242         40.750562  \n",
       "3        -73.987130        40.733143         -73.991567         40.758092  \n",
       "4        -73.968095        40.768008         -73.956655         40.783762  "
      ]
     },
     "execution_count": 8,
     "metadata": {},
     "output_type": "execute_result"
    }
   ],
   "source": [
    "df.head()"
   ]
  },
  {
   "cell_type": "markdown",
   "metadata": {},
   "source": [
    "# 1 - Distance"
   ]
  },
  {
   "cell_type": "code",
   "execution_count": 98,
   "metadata": {},
   "outputs": [],
   "source": [
    "# Use this function to count distance between two points\n",
    "\n",
    "import math\n",
    "def distance(origin, destination):\n",
    "    lat1, lon1 = origin\n",
    "    lat2, lon2 = destination\n",
    "    radius = 6371 # km\n",
    "\n",
    "    dlat = math.radians(lat2-lat1)\n",
    "    dlon = math.radians(lon2-lon1)\n",
    "    a = math.sin(dlat/2) * math.sin(dlat/2) + math.cos(math.radians(lat1)) \\\n",
    "        * math.cos(math.radians(lat2)) * math.sin(dlon/2) * math.sin(dlon/2)\n",
    "    c = 2 * math.atan2(math.sqrt(a), math.sqrt(1-a))\n",
    "    d = radius * c\n",
    "\n",
    "    return d"
   ]
  },
  {
   "cell_type": "code",
   "execution_count": 10,
   "metadata": {},
   "outputs": [],
   "source": [
    "# Create new column with zeros\n",
    "df['Distance'] = 0"
   ]
  },
  {
   "cell_type": "code",
   "execution_count": 11,
   "metadata": {},
   "outputs": [],
   "source": [
    "# Enumerate this column as I gonna use it as index for my apply function\n",
    "j = -1\n",
    "for i in range(len(df.Distance)):\n",
    "    j+=1\n",
    "    df.Distance.values[i] = j"
   ]
  },
  {
   "cell_type": "code",
   "execution_count": 12,
   "metadata": {},
   "outputs": [
    {
     "data": {
      "text/html": [
       "<div>\n",
       "<style scoped>\n",
       "    .dataframe tbody tr th:only-of-type {\n",
       "        vertical-align: middle;\n",
       "    }\n",
       "\n",
       "    .dataframe tbody tr th {\n",
       "        vertical-align: top;\n",
       "    }\n",
       "\n",
       "    .dataframe thead th {\n",
       "        text-align: right;\n",
       "    }\n",
       "</style>\n",
       "<table border=\"1\" class=\"dataframe\">\n",
       "  <thead>\n",
       "    <tr style=\"text-align: right;\">\n",
       "      <th></th>\n",
       "      <th>key</th>\n",
       "      <th>fare_amount</th>\n",
       "      <th>pickup_datetime</th>\n",
       "      <th>pickup_longitude</th>\n",
       "      <th>pickup_latitude</th>\n",
       "      <th>dropoff_longitude</th>\n",
       "      <th>dropoff_latitude</th>\n",
       "      <th>Distance</th>\n",
       "    </tr>\n",
       "  </thead>\n",
       "  <tbody>\n",
       "    <tr>\n",
       "      <th>0</th>\n",
       "      <td>2009-06-15 17:26:21.0000001</td>\n",
       "      <td>4.5</td>\n",
       "      <td>2009-06-15 17:26:21 UTC</td>\n",
       "      <td>-73.844311</td>\n",
       "      <td>40.721319</td>\n",
       "      <td>-73.841610</td>\n",
       "      <td>40.712278</td>\n",
       "      <td>0</td>\n",
       "    </tr>\n",
       "    <tr>\n",
       "      <th>1</th>\n",
       "      <td>2010-01-05 16:52:16.0000002</td>\n",
       "      <td>16.9</td>\n",
       "      <td>2010-01-05 16:52:16 UTC</td>\n",
       "      <td>-74.016048</td>\n",
       "      <td>40.711303</td>\n",
       "      <td>-73.979268</td>\n",
       "      <td>40.782004</td>\n",
       "      <td>1</td>\n",
       "    </tr>\n",
       "    <tr>\n",
       "      <th>2</th>\n",
       "      <td>2011-08-18 00:35:00.00000049</td>\n",
       "      <td>5.7</td>\n",
       "      <td>2011-08-18 00:35:00 UTC</td>\n",
       "      <td>-73.982738</td>\n",
       "      <td>40.761270</td>\n",
       "      <td>-73.991242</td>\n",
       "      <td>40.750562</td>\n",
       "      <td>2</td>\n",
       "    </tr>\n",
       "    <tr>\n",
       "      <th>3</th>\n",
       "      <td>2012-04-21 04:30:42.0000001</td>\n",
       "      <td>7.7</td>\n",
       "      <td>2012-04-21 04:30:42 UTC</td>\n",
       "      <td>-73.987130</td>\n",
       "      <td>40.733143</td>\n",
       "      <td>-73.991567</td>\n",
       "      <td>40.758092</td>\n",
       "      <td>3</td>\n",
       "    </tr>\n",
       "  </tbody>\n",
       "</table>\n",
       "</div>"
      ],
      "text/plain": [
       "                            key  fare_amount          pickup_datetime  \\\n",
       "0   2009-06-15 17:26:21.0000001          4.5  2009-06-15 17:26:21 UTC   \n",
       "1   2010-01-05 16:52:16.0000002         16.9  2010-01-05 16:52:16 UTC   \n",
       "2  2011-08-18 00:35:00.00000049          5.7  2011-08-18 00:35:00 UTC   \n",
       "3   2012-04-21 04:30:42.0000001          7.7  2012-04-21 04:30:42 UTC   \n",
       "\n",
       "   pickup_longitude  pickup_latitude  dropoff_longitude  dropoff_latitude  \\\n",
       "0        -73.844311        40.721319         -73.841610         40.712278   \n",
       "1        -74.016048        40.711303         -73.979268         40.782004   \n",
       "2        -73.982738        40.761270         -73.991242         40.750562   \n",
       "3        -73.987130        40.733143         -73.991567         40.758092   \n",
       "\n",
       "   Distance  \n",
       "0         0  \n",
       "1         1  \n",
       "2         2  \n",
       "3         3  "
      ]
     },
     "execution_count": 12,
     "metadata": {},
     "output_type": "execute_result"
    }
   ],
   "source": [
    "df.head(4)"
   ]
  },
  {
   "cell_type": "code",
   "execution_count": 13,
   "metadata": {},
   "outputs": [
    {
     "data": {
      "text/html": [
       "<div>\n",
       "<style scoped>\n",
       "    .dataframe tbody tr th:only-of-type {\n",
       "        vertical-align: middle;\n",
       "    }\n",
       "\n",
       "    .dataframe tbody tr th {\n",
       "        vertical-align: top;\n",
       "    }\n",
       "\n",
       "    .dataframe thead th {\n",
       "        text-align: right;\n",
       "    }\n",
       "</style>\n",
       "<table border=\"1\" class=\"dataframe\">\n",
       "  <thead>\n",
       "    <tr style=\"text-align: right;\">\n",
       "      <th></th>\n",
       "      <th>key</th>\n",
       "      <th>fare_amount</th>\n",
       "      <th>pickup_datetime</th>\n",
       "      <th>pickup_longitude</th>\n",
       "      <th>pickup_latitude</th>\n",
       "      <th>dropoff_longitude</th>\n",
       "      <th>dropoff_latitude</th>\n",
       "      <th>Distance</th>\n",
       "    </tr>\n",
       "  </thead>\n",
       "  <tbody>\n",
       "    <tr>\n",
       "      <th>54317894</th>\n",
       "      <td>2009-03-24 20:46:20.0000002</td>\n",
       "      <td>4.2</td>\n",
       "      <td>2009-03-24 20:46:20 UTC</td>\n",
       "      <td>-73.957784</td>\n",
       "      <td>40.765530</td>\n",
       "      <td>-73.951640</td>\n",
       "      <td>40.773959</td>\n",
       "      <td>54317894</td>\n",
       "    </tr>\n",
       "    <tr>\n",
       "      <th>54317895</th>\n",
       "      <td>2011-04-02 22:04:24.0000004</td>\n",
       "      <td>14.1</td>\n",
       "      <td>2011-04-02 22:04:24 UTC</td>\n",
       "      <td>-73.970505</td>\n",
       "      <td>40.752325</td>\n",
       "      <td>-73.960537</td>\n",
       "      <td>40.797342</td>\n",
       "      <td>54317895</td>\n",
       "    </tr>\n",
       "    <tr>\n",
       "      <th>54317896</th>\n",
       "      <td>2011-10-26 05:57:51.0000002</td>\n",
       "      <td>28.9</td>\n",
       "      <td>2011-10-26 05:57:51 UTC</td>\n",
       "      <td>-73.980901</td>\n",
       "      <td>40.764629</td>\n",
       "      <td>-73.870605</td>\n",
       "      <td>40.773963</td>\n",
       "      <td>54317896</td>\n",
       "    </tr>\n",
       "    <tr>\n",
       "      <th>54317897</th>\n",
       "      <td>2014-12-12 11:33:00.00000015</td>\n",
       "      <td>7.5</td>\n",
       "      <td>2014-12-12 11:33:00 UTC</td>\n",
       "      <td>-73.969722</td>\n",
       "      <td>40.797668</td>\n",
       "      <td>-73.970885</td>\n",
       "      <td>40.783313</td>\n",
       "      <td>54317897</td>\n",
       "    </tr>\n",
       "  </tbody>\n",
       "</table>\n",
       "</div>"
      ],
      "text/plain": [
       "                                   key  fare_amount          pickup_datetime  \\\n",
       "54317894   2009-03-24 20:46:20.0000002          4.2  2009-03-24 20:46:20 UTC   \n",
       "54317895   2011-04-02 22:04:24.0000004         14.1  2011-04-02 22:04:24 UTC   \n",
       "54317896   2011-10-26 05:57:51.0000002         28.9  2011-10-26 05:57:51 UTC   \n",
       "54317897  2014-12-12 11:33:00.00000015          7.5  2014-12-12 11:33:00 UTC   \n",
       "\n",
       "          pickup_longitude  pickup_latitude  dropoff_longitude  \\\n",
       "54317894        -73.957784        40.765530         -73.951640   \n",
       "54317895        -73.970505        40.752325         -73.960537   \n",
       "54317896        -73.980901        40.764629         -73.870605   \n",
       "54317897        -73.969722        40.797668         -73.970885   \n",
       "\n",
       "          dropoff_latitude  Distance  \n",
       "54317894         40.773959  54317894  \n",
       "54317895         40.797342  54317895  \n",
       "54317896         40.773963  54317896  \n",
       "54317897         40.783313  54317897  "
      ]
     },
     "execution_count": 13,
     "metadata": {},
     "output_type": "execute_result"
    }
   ],
   "source": [
    "df.tail(4)"
   ]
  },
  {
   "cell_type": "code",
   "execution_count": null,
   "metadata": {},
   "outputs": [],
   "source": [
    "# Apply function distance\n",
    "df['Distance'] = df.Distance.apply(lambda x: distance((df.pickup_latitude[x], df.pickup_longitude[x]), (df.dropoff_latitude[x], df.dropoff_longitude[x])) if x >= 0 else x)"
   ]
  },
  {
   "cell_type": "code",
   "execution_count": 5,
   "metadata": {},
   "outputs": [
    {
     "data": {
      "text/html": [
       "<div>\n",
       "<style scoped>\n",
       "    .dataframe tbody tr th:only-of-type {\n",
       "        vertical-align: middle;\n",
       "    }\n",
       "\n",
       "    .dataframe tbody tr th {\n",
       "        vertical-align: top;\n",
       "    }\n",
       "\n",
       "    .dataframe thead th {\n",
       "        text-align: right;\n",
       "    }\n",
       "</style>\n",
       "<table border=\"1\" class=\"dataframe\">\n",
       "  <thead>\n",
       "    <tr style=\"text-align: right;\">\n",
       "      <th></th>\n",
       "      <th>key</th>\n",
       "      <th>fare_amount</th>\n",
       "      <th>pickup_datetime</th>\n",
       "      <th>pickup_longitude</th>\n",
       "      <th>pickup_latitude</th>\n",
       "      <th>dropoff_longitude</th>\n",
       "      <th>dropoff_latitude</th>\n",
       "      <th>Distance</th>\n",
       "    </tr>\n",
       "  </thead>\n",
       "  <tbody>\n",
       "    <tr>\n",
       "      <th>0</th>\n",
       "      <td>2009-06-15 17:26:21.0000001</td>\n",
       "      <td>4.5</td>\n",
       "      <td>2009-06-15 17:26:21 UTC</td>\n",
       "      <td>-73.844311</td>\n",
       "      <td>40.721319</td>\n",
       "      <td>-73.841610</td>\n",
       "      <td>40.712278</td>\n",
       "      <td>1.030764</td>\n",
       "    </tr>\n",
       "    <tr>\n",
       "      <th>1</th>\n",
       "      <td>2010-01-05 16:52:16.0000002</td>\n",
       "      <td>16.9</td>\n",
       "      <td>2010-01-05 16:52:16 UTC</td>\n",
       "      <td>-74.016048</td>\n",
       "      <td>40.711303</td>\n",
       "      <td>-73.979268</td>\n",
       "      <td>40.782004</td>\n",
       "      <td>8.450134</td>\n",
       "    </tr>\n",
       "    <tr>\n",
       "      <th>2</th>\n",
       "      <td>2011-08-18 00:35:00.00000049</td>\n",
       "      <td>5.7</td>\n",
       "      <td>2011-08-18 00:35:00 UTC</td>\n",
       "      <td>-73.982738</td>\n",
       "      <td>40.761270</td>\n",
       "      <td>-73.991242</td>\n",
       "      <td>40.750562</td>\n",
       "      <td>1.389525</td>\n",
       "    </tr>\n",
       "    <tr>\n",
       "      <th>3</th>\n",
       "      <td>2012-04-21 04:30:42.0000001</td>\n",
       "      <td>7.7</td>\n",
       "      <td>2012-04-21 04:30:42 UTC</td>\n",
       "      <td>-73.987130</td>\n",
       "      <td>40.733143</td>\n",
       "      <td>-73.991567</td>\n",
       "      <td>40.758092</td>\n",
       "      <td>2.799270</td>\n",
       "    </tr>\n",
       "    <tr>\n",
       "      <th>4</th>\n",
       "      <td>2010-03-09 07:51:00.000000135</td>\n",
       "      <td>5.3</td>\n",
       "      <td>2010-03-09 07:51:00 UTC</td>\n",
       "      <td>-73.968095</td>\n",
       "      <td>40.768008</td>\n",
       "      <td>-73.956655</td>\n",
       "      <td>40.783762</td>\n",
       "      <td>1.999157</td>\n",
       "    </tr>\n",
       "  </tbody>\n",
       "</table>\n",
       "</div>"
      ],
      "text/plain": [
       "                             key  fare_amount          pickup_datetime  \\\n",
       "0    2009-06-15 17:26:21.0000001          4.5  2009-06-15 17:26:21 UTC   \n",
       "1    2010-01-05 16:52:16.0000002         16.9  2010-01-05 16:52:16 UTC   \n",
       "2   2011-08-18 00:35:00.00000049          5.7  2011-08-18 00:35:00 UTC   \n",
       "3    2012-04-21 04:30:42.0000001          7.7  2012-04-21 04:30:42 UTC   \n",
       "4  2010-03-09 07:51:00.000000135          5.3  2010-03-09 07:51:00 UTC   \n",
       "\n",
       "   pickup_longitude  pickup_latitude  dropoff_longitude  dropoff_latitude  \\\n",
       "0        -73.844311        40.721319         -73.841610         40.712278   \n",
       "1        -74.016048        40.711303         -73.979268         40.782004   \n",
       "2        -73.982738        40.761270         -73.991242         40.750562   \n",
       "3        -73.987130        40.733143         -73.991567         40.758092   \n",
       "4        -73.968095        40.768008         -73.956655         40.783762   \n",
       "\n",
       "   Distance  \n",
       "0  1.030764  \n",
       "1  8.450134  \n",
       "2  1.389525  \n",
       "3  2.799270  \n",
       "4  1.999157  "
      ]
     },
     "execution_count": 5,
     "metadata": {},
     "output_type": "execute_result"
    }
   ],
   "source": [
    "df.head(5)"
   ]
  },
  {
   "cell_type": "markdown",
   "metadata": {},
   "source": [
    "# 2 - Distance from the center (pickup)"
   ]
  },
  {
   "cell_type": "markdown",
   "metadata": {},
   "source": [
    "The latitude of Central Park, New York, NY, USA is 40.785091, and the longitude is -73.968285"
   ]
  },
  {
   "cell_type": "code",
   "execution_count": 14,
   "metadata": {},
   "outputs": [],
   "source": [
    "def distance_from_center(destination):\n",
    "    lat1, lon1 = (40.785091, -73.968285)\n",
    "    lat2, lon2 = destination\n",
    "    radius = 6371 # km\n",
    "\n",
    "    dlat = math.radians(lat2-lat1)\n",
    "    dlon = math.radians(lon2-lon1)\n",
    "    a = math.sin(dlat/2) * math.sin(dlat/2) + math.cos(math.radians(lat1)) \\\n",
    "        * math.cos(math.radians(lat2)) * math.sin(dlon/2) * math.sin(dlon/2)\n",
    "    c = 2 * math.atan2(math.sqrt(a), math.sqrt(1-a))\n",
    "    d = radius * c\n",
    "\n",
    "    return d"
   ]
  },
  {
   "cell_type": "code",
   "execution_count": 10,
   "metadata": {},
   "outputs": [],
   "source": [
    "df['Pick_from_Center'] = 0"
   ]
  },
  {
   "cell_type": "code",
   "execution_count": 11,
   "metadata": {},
   "outputs": [],
   "source": [
    "j = -1\n",
    "for i in range(len(df.Pick_from_Center)):\n",
    "    j+=1\n",
    "    df.Pick_from_Center.values[i] = j"
   ]
  },
  {
   "cell_type": "code",
   "execution_count": 13,
   "metadata": {},
   "outputs": [
    {
     "name": "stdout",
     "output_type": "stream",
     "text": [
      "Wall time: 35min 4s\n"
     ]
    }
   ],
   "source": [
    "# Apply function distance_from_center (for pickup)\n",
    "%%time\n",
    "df['Pick_from_Center'] = df.Pick_from_Center.apply(lambda x: distance_from_center((df.pickup_latitude[x], df.pickup_longitude[x])) if x >= 0 else x)"
   ]
  },
  {
   "cell_type": "markdown",
   "metadata": {},
   "source": [
    "# 3 - Distance from the center (dropoff)"
   ]
  },
  {
   "cell_type": "code",
   "execution_count": 17,
   "metadata": {},
   "outputs": [],
   "source": [
    "df['Drop_from_Center'] = 0"
   ]
  },
  {
   "cell_type": "code",
   "execution_count": 19,
   "metadata": {},
   "outputs": [],
   "source": [
    "j = -1\n",
    "for i in range(len(df.Drop_from_Center)):\n",
    "    j+=1\n",
    "    df.Drop_from_Center.values[i] = j"
   ]
  },
  {
   "cell_type": "code",
   "execution_count": 21,
   "metadata": {},
   "outputs": [
    {
     "name": "stdout",
     "output_type": "stream",
     "text": [
      "Wall time: 34min 32s\n"
     ]
    }
   ],
   "source": [
    "# Apply function distance_from_center (dropoff)\n",
    "%%time\n",
    "df['Drop_from_Center'] = df.Drop_from_Center.apply(lambda x: distance_from_center((df.dropoff_latitude[x], df.dropoff_longitude[x])) if x >= 0 else x)"
   ]
  },
  {
   "cell_type": "markdown",
   "metadata": {},
   "source": [
    "# Round values in 3 new features to 1 decimal to save some memory"
   ]
  },
  {
   "cell_type": "code",
   "execution_count": 8,
   "metadata": {},
   "outputs": [
    {
     "name": "stdout",
     "output_type": "stream",
     "text": [
      "Wall time: 6min 8s\n"
     ]
    }
   ],
   "source": [
    "%%time\n",
    "df.Distance = df.Distance.apply(lambda x: np.round(x, decimals=1))\n",
    "df.Pick_from_Center = df.Pick_from_Center.apply(lambda x: np.round(x, decimals=1))\n",
    "df.Drop_from_Center = df.Drop_from_Center.apply(lambda x: np.round(x, decimals=1))"
   ]
  },
  {
   "cell_type": "markdown",
   "metadata": {},
   "source": [
    "# Search for outliers"
   ]
  },
  {
   "cell_type": "markdown",
   "metadata": {},
   "source": [
    "<span style=\"color:#be0119\"><b>\n",
    "--- comment ---</b>\n",
    "\n",
    "<span style=\"color:#1e488f\"> I dropped original columns with longitude and latitude. Then I checked for max distance from center and found some big numbers, also fare_amount has few big numbers. I assumed that max distance from the center should be  no longer than 150 and fare abount not more then $2000."
   ]
  },
  {
   "cell_type": "code",
   "execution_count": 7,
   "metadata": {},
   "outputs": [
    {
     "name": "stdout",
     "output_type": "stream",
     "text": [
      "Wall time: 17.2 s\n"
     ]
    }
   ],
   "source": [
    "%%time\n",
    "df = df.loc[df.Pick_from_Center <= 150]"
   ]
  },
  {
   "cell_type": "code",
   "execution_count": 9,
   "metadata": {},
   "outputs": [
    {
     "name": "stdout",
     "output_type": "stream",
     "text": [
      "Wall time: 24.9 s\n"
     ]
    }
   ],
   "source": [
    "%%time\n",
    "df = df.loc[df.Drop_from_Center <= 150]"
   ]
  },
  {
   "cell_type": "code",
   "execution_count": 12,
   "metadata": {},
   "outputs": [
    {
     "name": "stdout",
     "output_type": "stream",
     "text": [
      "Wall time: 31.4 s\n"
     ]
    }
   ],
   "source": [
    "%%time\n",
    "df = df.loc[df.fare_amount <= 2000]"
   ]
  },
  {
   "cell_type": "code",
   "execution_count": 3,
   "metadata": {},
   "outputs": [
    {
     "data": {
      "text/html": [
       "<div>\n",
       "<style scoped>\n",
       "    .dataframe tbody tr th:only-of-type {\n",
       "        vertical-align: middle;\n",
       "    }\n",
       "\n",
       "    .dataframe tbody tr th {\n",
       "        vertical-align: top;\n",
       "    }\n",
       "\n",
       "    .dataframe thead th {\n",
       "        text-align: right;\n",
       "    }\n",
       "</style>\n",
       "<table border=\"1\" class=\"dataframe\">\n",
       "  <thead>\n",
       "    <tr style=\"text-align: right;\">\n",
       "      <th></th>\n",
       "      <th>key</th>\n",
       "      <th>fare_amount</th>\n",
       "      <th>pickup_datetime</th>\n",
       "      <th>Distance</th>\n",
       "      <th>Pick_from_Center</th>\n",
       "      <th>Drop_from_Center</th>\n",
       "    </tr>\n",
       "  </thead>\n",
       "  <tbody>\n",
       "    <tr>\n",
       "      <th>0</th>\n",
       "      <td>2009-06-15 17:26:21.0000001</td>\n",
       "      <td>4.5</td>\n",
       "      <td>2009-06-15 17:26:21 UTC</td>\n",
       "      <td>1.0</td>\n",
       "      <td>12.6</td>\n",
       "      <td>13.4</td>\n",
       "    </tr>\n",
       "    <tr>\n",
       "      <th>1</th>\n",
       "      <td>2010-01-05 16:52:16.0000002</td>\n",
       "      <td>16.9</td>\n",
       "      <td>2010-01-05 16:52:16 UTC</td>\n",
       "      <td>8.5</td>\n",
       "      <td>9.1</td>\n",
       "      <td>1.0</td>\n",
       "    </tr>\n",
       "    <tr>\n",
       "      <th>2</th>\n",
       "      <td>2011-08-18 00:35:00.00000049</td>\n",
       "      <td>5.7</td>\n",
       "      <td>2011-08-18 00:35:00 UTC</td>\n",
       "      <td>1.4</td>\n",
       "      <td>2.9</td>\n",
       "      <td>4.3</td>\n",
       "    </tr>\n",
       "    <tr>\n",
       "      <th>3</th>\n",
       "      <td>2012-04-21 04:30:42.0000001</td>\n",
       "      <td>7.7</td>\n",
       "      <td>2012-04-21 04:30:42 UTC</td>\n",
       "      <td>2.8</td>\n",
       "      <td>6.0</td>\n",
       "      <td>3.6</td>\n",
       "    </tr>\n",
       "    <tr>\n",
       "      <th>4</th>\n",
       "      <td>2010-03-09 07:51:00.000000135</td>\n",
       "      <td>5.3</td>\n",
       "      <td>2010-03-09 07:51:00 UTC</td>\n",
       "      <td>2.0</td>\n",
       "      <td>1.9</td>\n",
       "      <td>1.0</td>\n",
       "    </tr>\n",
       "  </tbody>\n",
       "</table>\n",
       "</div>"
      ],
      "text/plain": [
       "                             key  fare_amount          pickup_datetime  \\\n",
       "0    2009-06-15 17:26:21.0000001          4.5  2009-06-15 17:26:21 UTC   \n",
       "1    2010-01-05 16:52:16.0000002         16.9  2010-01-05 16:52:16 UTC   \n",
       "2   2011-08-18 00:35:00.00000049          5.7  2011-08-18 00:35:00 UTC   \n",
       "3    2012-04-21 04:30:42.0000001          7.7  2012-04-21 04:30:42 UTC   \n",
       "4  2010-03-09 07:51:00.000000135          5.3  2010-03-09 07:51:00 UTC   \n",
       "\n",
       "   Distance  Pick_from_Center  Drop_from_Center  \n",
       "0       1.0              12.6              13.4  \n",
       "1       8.5               9.1               1.0  \n",
       "2       1.4               2.9               4.3  \n",
       "3       2.8               6.0               3.6  \n",
       "4       2.0               1.9               1.0  "
      ]
     },
     "execution_count": 3,
     "metadata": {},
     "output_type": "execute_result"
    }
   ],
   "source": [
    "df.head()"
   ]
  },
  {
   "cell_type": "code",
   "execution_count": 5,
   "metadata": {},
   "outputs": [
    {
     "data": {
      "text/plain": [
       "(54269077, 6)"
      ]
     },
     "execution_count": 5,
     "metadata": {},
     "output_type": "execute_result"
    }
   ],
   "source": [
    "df.shape"
   ]
  },
  {
   "cell_type": "code",
   "execution_count": 6,
   "metadata": {},
   "outputs": [
    {
     "name": "stdout",
     "output_type": "stream",
     "text": [
      "Max fare amount: 1564.5\n",
      "Max distance from center (pickup): 149.9\n",
      "Max distance from center (dropoff): 149.6\n"
     ]
    }
   ],
   "source": [
    "print('Max fare amount:',df.fare_amount.max())\n",
    "print('Max distance from center (pickup):',df.Pick_from_Center.max())\n",
    "print('Max distance from center (dropoff):',df.Drop_from_Center.max())"
   ]
  },
  {
   "cell_type": "markdown",
   "metadata": {},
   "source": [
    "# Create new features from pickup date and time"
   ]
  },
  {
   "cell_type": "markdown",
   "metadata": {},
   "source": [
    "<span style=\"color:#be0119\"><b>\n",
    "--- comment ---</b>\n",
    "\n",
    "<span style=\"color:#1e488f\"> Split datetime into 5 different features (hour, day, year, day of week, month). And make some categories."
   ]
  },
  {
   "cell_type": "code",
   "execution_count": 7,
   "metadata": {},
   "outputs": [],
   "source": [
    "# Transform into datetime format\n",
    "df['pickup_datetime'] = pd.to_datetime(df.pickup_datetime)"
   ]
  },
  {
   "cell_type": "code",
   "execution_count": 10,
   "metadata": {},
   "outputs": [],
   "source": [
    "df['hour'] = 0\n",
    "df['hour'] = df.pickup_datetime.map(lambda x: x.hour)"
   ]
  },
  {
   "cell_type": "code",
   "execution_count": 12,
   "metadata": {},
   "outputs": [],
   "source": [
    "df['day'] = 0\n",
    "df['day'] = df.pickup_datetime.map(lambda x: x.day)"
   ]
  },
  {
   "cell_type": "code",
   "execution_count": 14,
   "metadata": {},
   "outputs": [],
   "source": [
    "df['year'] = 0\n",
    "df['year'] = df.pickup_datetime.map(lambda x: x.year)"
   ]
  },
  {
   "cell_type": "code",
   "execution_count": 17,
   "metadata": {},
   "outputs": [],
   "source": [
    "df['day_of_week'] = 0\n",
    "df['day_of_week'] = df.pickup_datetime.map(lambda x: x.weekday_name)"
   ]
  },
  {
   "cell_type": "code",
   "execution_count": 19,
   "metadata": {},
   "outputs": [],
   "source": [
    "df['month'] = 0\n",
    "df['month'] = df.pickup_datetime.map(lambda x: x.month)"
   ]
  },
  {
   "cell_type": "code",
   "execution_count": 5,
   "metadata": {},
   "outputs": [],
   "source": [
    "df.drop('pickup_datetime', axis=1, inplace=True)"
   ]
  },
  {
   "cell_type": "code",
   "execution_count": 6,
   "metadata": {},
   "outputs": [
    {
     "data": {
      "text/html": [
       "<div>\n",
       "<style scoped>\n",
       "    .dataframe tbody tr th:only-of-type {\n",
       "        vertical-align: middle;\n",
       "    }\n",
       "\n",
       "    .dataframe tbody tr th {\n",
       "        vertical-align: top;\n",
       "    }\n",
       "\n",
       "    .dataframe thead th {\n",
       "        text-align: right;\n",
       "    }\n",
       "</style>\n",
       "<table border=\"1\" class=\"dataframe\">\n",
       "  <thead>\n",
       "    <tr style=\"text-align: right;\">\n",
       "      <th></th>\n",
       "      <th>key</th>\n",
       "      <th>fare_amount</th>\n",
       "      <th>Distance</th>\n",
       "      <th>Pick_from_Center</th>\n",
       "      <th>Drop_from_Center</th>\n",
       "      <th>hour</th>\n",
       "      <th>day</th>\n",
       "      <th>year</th>\n",
       "      <th>day_of_week</th>\n",
       "      <th>month</th>\n",
       "    </tr>\n",
       "  </thead>\n",
       "  <tbody>\n",
       "    <tr>\n",
       "      <th>0</th>\n",
       "      <td>2009-06-15 17:26:21.0000001</td>\n",
       "      <td>4.5</td>\n",
       "      <td>1.0</td>\n",
       "      <td>12.6</td>\n",
       "      <td>13.4</td>\n",
       "      <td>17</td>\n",
       "      <td>15</td>\n",
       "      <td>2009</td>\n",
       "      <td>Monday</td>\n",
       "      <td>6</td>\n",
       "    </tr>\n",
       "    <tr>\n",
       "      <th>1</th>\n",
       "      <td>2010-01-05 16:52:16.0000002</td>\n",
       "      <td>16.9</td>\n",
       "      <td>8.5</td>\n",
       "      <td>9.1</td>\n",
       "      <td>1.0</td>\n",
       "      <td>16</td>\n",
       "      <td>5</td>\n",
       "      <td>2010</td>\n",
       "      <td>Tuesday</td>\n",
       "      <td>1</td>\n",
       "    </tr>\n",
       "    <tr>\n",
       "      <th>2</th>\n",
       "      <td>2011-08-18 00:35:00.00000049</td>\n",
       "      <td>5.7</td>\n",
       "      <td>1.4</td>\n",
       "      <td>2.9</td>\n",
       "      <td>4.3</td>\n",
       "      <td>0</td>\n",
       "      <td>18</td>\n",
       "      <td>2011</td>\n",
       "      <td>Thursday</td>\n",
       "      <td>8</td>\n",
       "    </tr>\n",
       "    <tr>\n",
       "      <th>3</th>\n",
       "      <td>2012-04-21 04:30:42.0000001</td>\n",
       "      <td>7.7</td>\n",
       "      <td>2.8</td>\n",
       "      <td>6.0</td>\n",
       "      <td>3.6</td>\n",
       "      <td>4</td>\n",
       "      <td>21</td>\n",
       "      <td>2012</td>\n",
       "      <td>Saturday</td>\n",
       "      <td>4</td>\n",
       "    </tr>\n",
       "    <tr>\n",
       "      <th>4</th>\n",
       "      <td>2010-03-09 07:51:00.000000135</td>\n",
       "      <td>5.3</td>\n",
       "      <td>2.0</td>\n",
       "      <td>1.9</td>\n",
       "      <td>1.0</td>\n",
       "      <td>7</td>\n",
       "      <td>9</td>\n",
       "      <td>2010</td>\n",
       "      <td>Tuesday</td>\n",
       "      <td>3</td>\n",
       "    </tr>\n",
       "  </tbody>\n",
       "</table>\n",
       "</div>"
      ],
      "text/plain": [
       "                             key  fare_amount  Distance  Pick_from_Center  \\\n",
       "0    2009-06-15 17:26:21.0000001          4.5       1.0              12.6   \n",
       "1    2010-01-05 16:52:16.0000002         16.9       8.5               9.1   \n",
       "2   2011-08-18 00:35:00.00000049          5.7       1.4               2.9   \n",
       "3    2012-04-21 04:30:42.0000001          7.7       2.8               6.0   \n",
       "4  2010-03-09 07:51:00.000000135          5.3       2.0               1.9   \n",
       "\n",
       "   Drop_from_Center  hour  day  year day_of_week  month  \n",
       "0              13.4    17   15  2009      Monday      6  \n",
       "1               1.0    16    5  2010     Tuesday      1  \n",
       "2               4.3     0   18  2011    Thursday      8  \n",
       "3               3.6     4   21  2012    Saturday      4  \n",
       "4               1.0     7    9  2010     Tuesday      3  "
      ]
     },
     "execution_count": 6,
     "metadata": {},
     "output_type": "execute_result"
    }
   ],
   "source": [
    "df.head(5)"
   ]
  },
  {
   "cell_type": "markdown",
   "metadata": {},
   "source": [
    "# Check balance of rides for each new features"
   ]
  },
  {
   "cell_type": "code",
   "execution_count": 9,
   "metadata": {},
   "outputs": [
    {
     "data": {
      "image/png": "[encoded data removed]",
      "text/plain": [
       "<matplotlib.figure.Figure at 0x1a381d65f60>"
      ]
     },
     "metadata": {},
     "output_type": "display_data"
    }
   ],
   "source": [
    "g = sns.countplot(df.day_of_week)"
   ]
  },
  {
   "cell_type": "code",
   "execution_count": 10,
   "metadata": {},
   "outputs": [
    {
     "data": {
      "image/png": "[encoded data removed]",
      "text/plain": [
       "<matplotlib.figure.Figure at 0x1a381ddada0>"
      ]
     },
     "metadata": {},
     "output_type": "display_data"
    }
   ],
   "source": [
    "g = sns.countplot(df.month)"
   ]
  },
  {
   "cell_type": "code",
   "execution_count": 11,
   "metadata": {},
   "outputs": [
    {
     "data": {
      "image/png": "[encoded data removed]",
      "text/plain": [
       "<matplotlib.figure.Figure at 0x1a3828d6518>"
      ]
     },
     "metadata": {},
     "output_type": "display_data"
    }
   ],
   "source": [
    "g = sns.countplot(df.year)"
   ]
  },
  {
   "cell_type": "code",
   "execution_count": 12,
   "metadata": {},
   "outputs": [
    {
     "data": {
      "image/png": "[encoded data removed]",
      "text/plain": [
       "<matplotlib.figure.Figure at 0x1a3834bae48>"
      ]
     },
     "metadata": {},
     "output_type": "display_data"
    }
   ],
   "source": [
    "# I checked corelation between price and day, its very small, which is logicaly correct so I will drop this feature\n",
    "g = sns.countplot(df.day)"
   ]
  },
  {
   "cell_type": "code",
   "execution_count": 13,
   "metadata": {},
   "outputs": [
    {
     "data": {
      "image/png": "[encoded data removed]",
      "text/plain": [
       "<matplotlib.figure.Figure at 0x1a383557ba8>"
      ]
     },
     "metadata": {},
     "output_type": "display_data"
    }
   ],
   "source": [
    "# I will create 3 categories for the time of the day (0-5) (6-17) (18-23)\n",
    "g = sns.countplot(df.hour) "
   ]
  },
  {
   "cell_type": "code",
   "execution_count": 3,
   "metadata": {},
   "outputs": [],
   "source": [
    "# I decided to create 3 categories for day of the week (Mon-Thu) (Fri) (Sat-Sun)\n",
    "df['day_of_week_n'] = 0\n",
    "df['day_of_week_n'] =  df['day_of_week'].apply(lambda x: 1 if x == 'Monday' else str(x))\n",
    "df['day_of_week_n'] =  df['day_of_week_n'].apply(lambda x: 1 if x == 'Tuesday' else str(x))\n",
    "df['day_of_week_n'] =  df['day_of_week_n'].apply(lambda x: 1 if x == 'Wednesday' else str(x))\n",
    "df['day_of_week_n'] =  df['day_of_week_n'].apply(lambda x: 1 if x == 'Thursday' else str(x))\n",
    "df['day_of_week_n'] =  df['day_of_week_n'].apply(lambda x: 2 if x == 'Friday' else str(x))\n",
    "df['day_of_week_n'] =  df['day_of_week_n'].apply(lambda x: 3 if x == 'Saturday' else str(x))\n",
    "df['day_of_week_n'] =  df['day_of_week_n'].apply(lambda x: 3 if x == 'Sunday' else str(x))"
   ]
  },
  {
   "cell_type": "code",
   "execution_count": 9,
   "metadata": {},
   "outputs": [],
   "source": [
    "df_main.day_of_week_n = df_main.day_of_week_n.astype(int)"
   ]
  },
  {
   "cell_type": "code",
   "execution_count": 5,
   "metadata": {},
   "outputs": [],
   "source": [
    "# I take last 2 digits from year to save some memory\n",
    "df['year_n'] = 0\n",
    "df['year_n'] =  df['year'].apply(lambda x: 9 if x == 2009 else int(x))\n",
    "df['year_n'] =  df['year_n'].apply(lambda x: 10 if x == 2010 else int(x))\n",
    "df['year_n'] =  df['year_n'].apply(lambda x: 11 if x == 2011 else int(x))\n",
    "df['year_n'] =  df['year_n'].apply(lambda x: 12 if x == 2012 else int(x))\n",
    "df['year_n'] =  df['year_n'].apply(lambda x: 13 if x == 2013 else int(x))\n",
    "df['year_n'] =  df['year_n'].apply(lambda x: 14 if x == 2014 else int(x))\n",
    "df['year_n'] =  df['year_n'].apply(lambda x: 15 if x == 2015 else int(x))"
   ]
  },
  {
   "cell_type": "code",
   "execution_count": 19,
   "metadata": {},
   "outputs": [],
   "source": [
    "# Split time during the day on 3 categories as there pick time for traffic and low time for traffic\n",
    "df['hour_n'] = 0\n",
    "df['hour_n'] =  df['hour'].apply(lambda x: 1 if x >= 0 and x <= 5 else int(x))\n",
    "df['hour_n'] =  df['hour_n'].apply(lambda x: 2 if x > 5 and x <= 17 else int(x))\n",
    "df['hour_n'] =  df['hour_n'].apply(lambda x: 3 if x > 17 else int(x))"
   ]
  },
  {
   "cell_type": "code",
   "execution_count": 8,
   "metadata": {},
   "outputs": [
    {
     "data": {
      "text/html": [
       "<div>\n",
       "<style scoped>\n",
       "    .dataframe tbody tr th:only-of-type {\n",
       "        vertical-align: middle;\n",
       "    }\n",
       "\n",
       "    .dataframe tbody tr th {\n",
       "        vertical-align: top;\n",
       "    }\n",
       "\n",
       "    .dataframe thead th {\n",
       "        text-align: right;\n",
       "    }\n",
       "</style>\n",
       "<table border=\"1\" class=\"dataframe\">\n",
       "  <thead>\n",
       "    <tr style=\"text-align: right;\">\n",
       "      <th></th>\n",
       "      <th>key</th>\n",
       "      <th>fare_amount</th>\n",
       "      <th>Distance</th>\n",
       "      <th>Pick_from_Center</th>\n",
       "      <th>Drop_from_Center</th>\n",
       "      <th>month</th>\n",
       "      <th>day_of_week_n</th>\n",
       "      <th>year_n</th>\n",
       "      <th>hour_n</th>\n",
       "    </tr>\n",
       "  </thead>\n",
       "  <tbody>\n",
       "    <tr>\n",
       "      <th>0</th>\n",
       "      <td>2009-06-15 17:26:21.0000001</td>\n",
       "      <td>4.5</td>\n",
       "      <td>1.0</td>\n",
       "      <td>12.6</td>\n",
       "      <td>13.4</td>\n",
       "      <td>6</td>\n",
       "      <td>1</td>\n",
       "      <td>9</td>\n",
       "      <td>2</td>\n",
       "    </tr>\n",
       "    <tr>\n",
       "      <th>1</th>\n",
       "      <td>2010-01-05 16:52:16.0000002</td>\n",
       "      <td>16.9</td>\n",
       "      <td>8.5</td>\n",
       "      <td>9.1</td>\n",
       "      <td>1.0</td>\n",
       "      <td>1</td>\n",
       "      <td>1</td>\n",
       "      <td>10</td>\n",
       "      <td>2</td>\n",
       "    </tr>\n",
       "    <tr>\n",
       "      <th>2</th>\n",
       "      <td>2011-08-18 00:35:00.00000049</td>\n",
       "      <td>5.7</td>\n",
       "      <td>1.4</td>\n",
       "      <td>2.9</td>\n",
       "      <td>4.3</td>\n",
       "      <td>8</td>\n",
       "      <td>1</td>\n",
       "      <td>11</td>\n",
       "      <td>1</td>\n",
       "    </tr>\n",
       "    <tr>\n",
       "      <th>3</th>\n",
       "      <td>2012-04-21 04:30:42.0000001</td>\n",
       "      <td>7.7</td>\n",
       "      <td>2.8</td>\n",
       "      <td>6.0</td>\n",
       "      <td>3.6</td>\n",
       "      <td>4</td>\n",
       "      <td>3</td>\n",
       "      <td>12</td>\n",
       "      <td>1</td>\n",
       "    </tr>\n",
       "    <tr>\n",
       "      <th>4</th>\n",
       "      <td>2010-03-09 07:51:00.000000135</td>\n",
       "      <td>5.3</td>\n",
       "      <td>2.0</td>\n",
       "      <td>1.9</td>\n",
       "      <td>1.0</td>\n",
       "      <td>3</td>\n",
       "      <td>1</td>\n",
       "      <td>10</td>\n",
       "      <td>2</td>\n",
       "    </tr>\n",
       "  </tbody>\n",
       "</table>\n",
       "</div>"
      ],
      "text/plain": [
       "                             key  fare_amount  Distance  Pick_from_Center  \\\n",
       "0    2009-06-15 17:26:21.0000001          4.5       1.0              12.6   \n",
       "1    2010-01-05 16:52:16.0000002         16.9       8.5               9.1   \n",
       "2   2011-08-18 00:35:00.00000049          5.7       1.4               2.9   \n",
       "3    2012-04-21 04:30:42.0000001          7.7       2.8               6.0   \n",
       "4  2010-03-09 07:51:00.000000135          5.3       2.0               1.9   \n",
       "\n",
       "   Drop_from_Center  month  day_of_week_n  year_n  hour_n  \n",
       "0              13.4      6              1       9       2  \n",
       "1               1.0      1              1      10       2  \n",
       "2               4.3      8              1      11       1  \n",
       "3               3.6      4              3      12       1  \n",
       "4               1.0      3              1      10       2  "
      ]
     },
     "execution_count": 8,
     "metadata": {},
     "output_type": "execute_result"
    }
   ],
   "source": [
    "df.head()"
   ]
  },
  {
   "cell_type": "markdown",
   "metadata": {},
   "source": [
    "# Check correlation for each new feature with fare"
   ]
  },
  {
   "cell_type": "code",
   "execution_count": 13,
   "metadata": {},
   "outputs": [
    {
     "name": "stdout",
     "output_type": "stream",
     "text": [
      "             Distance  fare_amount\n",
      "Distance     1.000000     0.755111\n",
      "fare_amount  0.755111     1.000000\n",
      "----------------------------------------------\n",
      "                  Pick_from_Center  fare_amount\n",
      "Pick_from_Center          1.000000     0.321621\n",
      "fare_amount               0.321621     1.000000\n",
      "----------------------------------------------\n",
      "                  Drop_from_Center  fare_amount\n",
      "Drop_from_Center           1.00000      0.38099\n",
      "fare_amount                0.38099      1.00000\n",
      "----------------------------------------------\n",
      "                month  fare_amount\n",
      "month        1.000000     0.024029\n",
      "fare_amount  0.024029     1.000000\n",
      "----------------------------------------------\n",
      "               day_of_week_n  fare_amount\n",
      "day_of_week_n        1.00000     -0.00183\n",
      "fare_amount         -0.00183      1.00000\n",
      "----------------------------------------------\n",
      "               year_n  fare_amount\n",
      "year_n       1.000000     0.115361\n",
      "fare_amount  0.115361     1.000000\n",
      "----------------------------------------------\n",
      "              hour_n  fare_amount\n",
      "hour_n       1.00000     -0.03178\n",
      "fare_amount -0.03178      1.00000\n"
     ]
    }
   ],
   "source": [
    "check_corr1 = df[['Distance', 'fare_amount']].corr()\n",
    "print(check_corr1)\n",
    "print('----------------------------------------------')\n",
    "check_corr2 = df[['Pick_from_Center', 'fare_amount']].corr()\n",
    "print(check_corr2)\n",
    "print('----------------------------------------------')\n",
    "check_corr3 = df[['Drop_from_Center', 'fare_amount']].corr()\n",
    "print(check_corr3)\n",
    "print('----------------------------------------------')\n",
    "check_corr4 = df[['month', 'fare_amount']].corr()\n",
    "print(check_corr4)\n",
    "print('----------------------------------------------')\n",
    "check_corr5 = df[['day_of_week_n', 'fare_amount']].corr()\n",
    "print(check_corr5)\n",
    "print('----------------------------------------------')\n",
    "check_corr6 = df[['year_n', 'fare_amount']].corr()\n",
    "print(check_corr6)\n",
    "print('----------------------------------------------')\n",
    "check_corr7 = df[['hour_n', 'fare_amount']].corr()\n",
    "print(check_corr7)"
   ]
  },
  {
   "cell_type": "markdown",
   "metadata": {},
   "source": [
    "# Go Keras"
   ]
  },
  {
   "cell_type": "markdown",
   "metadata": {},
   "source": [
    "<span style=\"color:#be0119\"><b>\n",
    "--- comment ---</b>\n",
    "\n",
    "<span style=\"color:#1e488f\"> 1. Split dataset into features and target\n",
    "\n",
    "<span style=\"color:#1e488f\"> 2. Scale features using StandardScaler\n",
    "    \n",
    "<span style=\"color:#1e488f\"> 3. Define RMSE function\n",
    "    \n",
    "<span style=\"color:#1e488f\"> 4. Set learning_rate_reduction (didn't work at the end :) )\n",
    "    \n",
    "<span style=\"color:#1e488f\"> 5. Build model with 3 layers and 128 nodes on each of layer, use adam optimizer, and RMSE metric\n",
    "    \n",
    "<span style=\"color:#1e488f\"> 6. For batch size I set 1500 as dataset is too big, and 100 epoch"
   ]
  },
  {
   "cell_type": "code",
   "execution_count": 3,
   "metadata": {},
   "outputs": [],
   "source": [
    "df_mail = pd.read_csv('Final.csv')"
   ]
  },
  {
   "cell_type": "code",
   "execution_count": 4,
   "metadata": {},
   "outputs": [
    {
     "data": {
      "text/html": [
       "<div>\n",
       "<style scoped>\n",
       "    .dataframe tbody tr th:only-of-type {\n",
       "        vertical-align: middle;\n",
       "    }\n",
       "\n",
       "    .dataframe tbody tr th {\n",
       "        vertical-align: top;\n",
       "    }\n",
       "\n",
       "    .dataframe thead th {\n",
       "        text-align: right;\n",
       "    }\n",
       "</style>\n",
       "<table border=\"1\" class=\"dataframe\">\n",
       "  <thead>\n",
       "    <tr style=\"text-align: right;\">\n",
       "      <th></th>\n",
       "      <th>key</th>\n",
       "      <th>fare_amount</th>\n",
       "      <th>Distance</th>\n",
       "      <th>Pick_from_Center</th>\n",
       "      <th>Drop_from_Center</th>\n",
       "      <th>month</th>\n",
       "      <th>day_of_week_n</th>\n",
       "      <th>year_n</th>\n",
       "      <th>hour_n</th>\n",
       "    </tr>\n",
       "  </thead>\n",
       "  <tbody>\n",
       "    <tr>\n",
       "      <th>0</th>\n",
       "      <td>2009-06-15 17:26:21.0000001</td>\n",
       "      <td>4.5</td>\n",
       "      <td>1.0</td>\n",
       "      <td>12.6</td>\n",
       "      <td>13.4</td>\n",
       "      <td>6</td>\n",
       "      <td>1</td>\n",
       "      <td>9</td>\n",
       "      <td>2</td>\n",
       "    </tr>\n",
       "    <tr>\n",
       "      <th>1</th>\n",
       "      <td>2010-01-05 16:52:16.0000002</td>\n",
       "      <td>16.9</td>\n",
       "      <td>8.5</td>\n",
       "      <td>9.1</td>\n",
       "      <td>1.0</td>\n",
       "      <td>1</td>\n",
       "      <td>1</td>\n",
       "      <td>10</td>\n",
       "      <td>2</td>\n",
       "    </tr>\n",
       "  </tbody>\n",
       "</table>\n",
       "</div>"
      ],
      "text/plain": [
       "                           key  fare_amount  Distance  Pick_from_Center  \\\n",
       "0  2009-06-15 17:26:21.0000001          4.5       1.0              12.6   \n",
       "1  2010-01-05 16:52:16.0000002         16.9       8.5               9.1   \n",
       "\n",
       "   Drop_from_Center  month  day_of_week_n  year_n  hour_n  \n",
       "0              13.4      6              1       9       2  \n",
       "1               1.0      1              1      10       2  "
      ]
     },
     "execution_count": 4,
     "metadata": {},
     "output_type": "execute_result"
    }
   ],
   "source": [
    "df_mail.head(2)"
   ]
  },
  {
   "cell_type": "code",
   "execution_count": 5,
   "metadata": {},
   "outputs": [
    {
     "data": {
      "text/plain": [
       "(54269077, 7)"
      ]
     },
     "execution_count": 5,
     "metadata": {},
     "output_type": "execute_result"
    }
   ],
   "source": [
    "features = df_mail.iloc[:, 2:].values\n",
    "features.shape"
   ]
  },
  {
   "cell_type": "code",
   "execution_count": 6,
   "metadata": {},
   "outputs": [
    {
     "data": {
      "text/plain": [
       "(54269077,)"
      ]
     },
     "execution_count": 6,
     "metadata": {},
     "output_type": "execute_result"
    }
   ],
   "source": [
    "target = df_mail['fare_amount'].values\n",
    "target.shape"
   ]
  },
  {
   "cell_type": "code",
   "execution_count": 7,
   "metadata": {},
   "outputs": [],
   "source": [
    "new_standart = StandardScaler()\n",
    "featuresS = new_standart.fit_transform(features)"
   ]
  },
  {
   "cell_type": "code",
   "execution_count": 8,
   "metadata": {},
   "outputs": [],
   "source": [
    "# define RMSE function\n",
    "from keras import backend as K\n",
    "def root_mean_squared_error(y_true, y_pred):\n",
    "        return K.sqrt(K.mean(K.square(y_pred - y_true), axis=-1))"
   ]
  },
  {
   "cell_type": "code",
   "execution_count": null,
   "metadata": {},
   "outputs": [],
   "source": []
  },
  {
   "cell_type": "code",
   "execution_count": 9,
   "metadata": {},
   "outputs": [],
   "source": [
    "# I was trying to use learning rate reduction but it didn't work in this case.\n",
    "from keras.callbacks import ReduceLROnPlateau\n",
    "# Set a learning rate annealer\n",
    "learning_rate_reduction = ReduceLROnPlateau(monitor='val_acc', \n",
    "                                            patience=3, \n",
    "                                            verbose=1, \n",
    "                                            factor=0.5, \n",
    "                                            min_lr=0.00001)"
   ]
  },
  {
   "cell_type": "code",
   "execution_count": 10,
   "metadata": {},
   "outputs": [],
   "source": [
    "model2 = Sequential()\n",
    "model2.add(Dense(128, activation='relu', input_shape=(featuresS.shape[1],)))\n",
    "model2.add(Dense(128, activation='relu', input_shape=(featuresS.shape[1],)))\n",
    "model2.add(Dense(128, activation='relu', input_shape=(featuresS.shape[1],)))\n",
    "model2.add(Dense(1))\n",
    "\n",
    "model2.compile(optimizer='adam', loss='mse', metrics=[root_mean_squared_error])"
   ]
  },
  {
   "cell_type": "code",
   "execution_count": 11,
   "metadata": {},
   "outputs": [],
   "source": [
    "model2.compile(optimizer='adam', loss='mse', metrics=[root_mean_squared_error])"
   ]
  },
  {
   "cell_type": "code",
   "execution_count": 12,
   "metadata": {},
   "outputs": [
    {
     "name": "stdout",
     "output_type": "stream",
     "text": [
      "Epoch 1/100\n",
      "54269077/54269077 [==============================] - 274s 5us/step - loss: 19.1512 - root_mean_squared_error: 2.0391\n",
      "Epoch 2/100\n",
      "   28500/54269077 [..............................] - ETA: 1:46:44 - loss: 19.0701 - root_mean_squared_error: 2.0259"
     ]
    },
    {
     "name": "stderr",
     "output_type": "stream",
     "text": [
      "C:\\Users\\FZ_DarkSider\\Anaconda3\\lib\\site-packages\\keras-2.2.0-py3.6.egg\\keras\\callbacks.py:1043: RuntimeWarning: Reduce LR on plateau conditioned on metric `val_acc` which is not available. Available metrics are: loss,root_mean_squared_error,lr\n"
     ]
    },
    {
     "name": "stdout",
     "output_type": "stream",
     "text": [
      "54269077/54269077 [==============================] - 287s 5us/step - loss: 17.6773 - root_mean_squared_error: 1.9467\n",
      "Epoch 3/100\n",
      "54269077/54269077 [==============================] - 259s 5us/step - loss: 17.4141 - root_mean_squared_error: 1.9264\n",
      "Epoch 4/100\n",
      "54269077/54269077 [==============================] - 252s 5us/step - loss: 17.2724 - root_mean_squared_error: 1.9160\n",
      "Epoch 5/100\n",
      "54269077/54269077 [==============================] - 254s 5us/step - loss: 17.1972 - root_mean_squared_error: 1.9101\n",
      "Epoch 6/100\n",
      "54269077/54269077 [==============================] - 262s 5us/step - loss: 17.1303 - root_mean_squared_error: 1.9058\n",
      "Epoch 7/100\n",
      "54269077/54269077 [==============================] - 251s 5us/step - loss: 17.0923 - root_mean_squared_error: 1.9026\n",
      "Epoch 8/100\n",
      "54269077/54269077 [==============================] - 260s 5us/step - loss: 17.0598 - root_mean_squared_error: 1.9003\n",
      "Epoch 9/100\n",
      "54269077/54269077 [==============================] - 254s 5us/step - loss: 17.0264 - root_mean_squared_error: 1.8979\n",
      "Epoch 10/100\n",
      "54269077/54269077 [==============================] - 251s 5us/step - loss: 16.9939 - root_mean_squared_error: 1.8961\n",
      "Epoch 11/100\n",
      "54269077/54269077 [==============================] - 253s 5us/step - loss: 16.9711 - root_mean_squared_error: 1.8944\n",
      "Epoch 12/100\n",
      "54269077/54269077 [==============================] - 265s 5us/step - loss: 16.9515 - root_mean_squared_error: 1.8931\n",
      "Epoch 13/100\n",
      "54269077/54269077 [==============================] - 259s 5us/step - loss: 16.9329 - root_mean_squared_error: 1.8919\n",
      "Epoch 14/100\n",
      "54269077/54269077 [==============================] - 261s 5us/step - loss: 16.9129 - root_mean_squared_error: 1.8910\n",
      "Epoch 15/100\n",
      "54269077/54269077 [==============================] - 257s 5us/step - loss: 16.9059 - root_mean_squared_error: 1.8902\n",
      "Epoch 16/100\n",
      "54269077/54269077 [==============================] - 257s 5us/step - loss: 16.8884 - root_mean_squared_error: 1.8891\n",
      "Epoch 17/100\n",
      "54269077/54269077 [==============================] - 254s 5us/step - loss: 16.8718 - root_mean_squared_error: 1.8879\n",
      "Epoch 18/100\n",
      "54269077/54269077 [==============================] - 251s 5us/step - loss: 16.8606 - root_mean_squared_error: 1.8872\n",
      "Epoch 19/100\n",
      "54269077/54269077 [==============================] - 259s 5us/step - loss: 16.8512 - root_mean_squared_error: 1.8866\n",
      "Epoch 20/100\n",
      "54269077/54269077 [==============================] - 245s 5us/step - loss: 16.8327 - root_mean_squared_error: 1.8857\n",
      "Epoch 21/100\n",
      "54269077/54269077 [==============================] - 255s 5us/step - loss: 16.8261 - root_mean_squared_error: 1.8850\n",
      "Epoch 22/100\n",
      "54269077/54269077 [==============================] - 260s 5us/step - loss: 16.8236 - root_mean_squared_error: 1.8845\n",
      "Epoch 23/100\n",
      "54269077/54269077 [==============================] - 267s 5us/step - loss: 16.8038 - root_mean_squared_error: 1.8838\n",
      "Epoch 24/100\n",
      "54269077/54269077 [==============================] - 267s 5us/step - loss: 16.7979 - root_mean_squared_error: 1.8832\n",
      "Epoch 25/100\n",
      "54269077/54269077 [==============================] - 261s 5us/step - loss: 16.7952 - root_mean_squared_error: 1.8828\n",
      "Epoch 26/100\n",
      "54269077/54269077 [==============================] - 268s 5us/step - loss: 16.7790 - root_mean_squared_error: 1.8823\n",
      "Epoch 27/100\n",
      "54269077/54269077 [==============================] - 266s 5us/step - loss: 16.7813 - root_mean_squared_error: 1.8819\n",
      "Epoch 28/100\n",
      "54269077/54269077 [==============================] - 268s 5us/step - loss: 16.7719 - root_mean_squared_error: 1.8815\n",
      "Epoch 29/100\n",
      "54269077/54269077 [==============================] - 267s 5us/step - loss: 16.7603 - root_mean_squared_error: 1.8809\n",
      "Epoch 30/100\n",
      "54269077/54269077 [==============================] - 265s 5us/step - loss: 16.7492 - root_mean_squared_error: 1.8804\n",
      "Epoch 31/100\n",
      "54269077/54269077 [==============================] - 268s 5us/step - loss: 16.7560 - root_mean_squared_error: 1.8803\n",
      "Epoch 32/100\n",
      "54269077/54269077 [==============================] - 264s 5us/step - loss: 16.7476 - root_mean_squared_error: 1.8798\n",
      "Epoch 33/100\n",
      "54269077/54269077 [==============================] - 266s 5us/step - loss: 16.7437 - root_mean_squared_error: 1.8794\n",
      "Epoch 34/100\n",
      "54269077/54269077 [==============================] - 264s 5us/step - loss: 16.7343 - root_mean_squared_error: 1.8792\n",
      "Epoch 35/100\n",
      "54269077/54269077 [==============================] - 266s 5us/step - loss: 16.7321 - root_mean_squared_error: 1.8789\n",
      "Epoch 36/100\n",
      "54269077/54269077 [==============================] - 264s 5us/step - loss: 16.7252 - root_mean_squared_error: 1.8785\n",
      "Epoch 37/100\n",
      "54269077/54269077 [==============================] - 266s 5us/step - loss: 16.7223 - root_mean_squared_error: 1.8783\n",
      "Epoch 38/100\n",
      "54269077/54269077 [==============================] - 264s 5us/step - loss: 16.7207 - root_mean_squared_error: 1.8784\n",
      "Epoch 39/100\n",
      "54269077/54269077 [==============================] - 261s 5us/step - loss: 16.7162 - root_mean_squared_error: 1.8779\n",
      "Epoch 40/100\n",
      "54269077/54269077 [==============================] - 259s 5us/step - loss: 16.7214 - root_mean_squared_error: 1.8780\n",
      "Epoch 41/100\n",
      "54269077/54269077 [==============================] - 260s 5us/step - loss: 16.7066 - root_mean_squared_error: 1.8775\n",
      "Epoch 42/100\n",
      "54269077/54269077 [==============================] - 260s 5us/step - loss: 16.7090 - root_mean_squared_error: 1.8776\n",
      "Epoch 43/100\n",
      "54269077/54269077 [==============================] - 259s 5us/step - loss: 16.7009 - root_mean_squared_error: 1.8773\n",
      "Epoch 44/100\n",
      "54269077/54269077 [==============================] - 258s 5us/step - loss: 16.6899 - root_mean_squared_error: 1.8769\n",
      "Epoch 45/100\n",
      "54269077/54269077 [==============================] - 258s 5us/step - loss: 16.6869 - root_mean_squared_error: 1.8768\n",
      "Epoch 46/100\n",
      "54269077/54269077 [==============================] - 258s 5us/step - loss: 16.6870 - root_mean_squared_error: 1.8767\n",
      "Epoch 47/100\n",
      "54269077/54269077 [==============================] - 259s 5us/step - loss: 16.6893 - root_mean_squared_error: 1.8767\n",
      "Epoch 48/100\n",
      "54269077/54269077 [==============================] - 259s 5us/step - loss: 16.6813 - root_mean_squared_error: 1.8764\n",
      "Epoch 49/100\n",
      "54269077/54269077 [==============================] - 258s 5us/step - loss: 16.6763 - root_mean_squared_error: 1.8760\n",
      "Epoch 50/100\n",
      "54269077/54269077 [==============================] - 261s 5us/step - loss: 16.6754 - root_mean_squared_error: 1.8763\n",
      "Epoch 51/100\n",
      "54269077/54269077 [==============================] - 260s 5us/step - loss: 16.6662 - root_mean_squared_error: 1.8759\n",
      "Epoch 52/100\n",
      "54269077/54269077 [==============================] - 258s 5us/step - loss: 16.6741 - root_mean_squared_error: 1.8758\n",
      "Epoch 53/100\n",
      "54269077/54269077 [==============================] - 257s 5us/step - loss: 16.6648 - root_mean_squared_error: 1.8755\n",
      "Epoch 54/100\n",
      "54269077/54269077 [==============================] - 258s 5us/step - loss: 16.6669 - root_mean_squared_error: 1.8756\n",
      "Epoch 55/100\n",
      "54269077/54269077 [==============================] - 256s 5us/step - loss: 16.6691 - root_mean_squared_error: 1.8756\n",
      "Epoch 56/100\n",
      "54269077/54269077 [==============================] - 258s 5us/step - loss: 16.6649 - root_mean_squared_error: 1.8752\n",
      "Epoch 57/100\n",
      "54269077/54269077 [==============================] - 256s 5us/step - loss: 16.6680 - root_mean_squared_error: 1.8753\n",
      "Epoch 58/100\n",
      "54269077/54269077 [==============================] - 257s 5us/step - loss: 16.6564 - root_mean_squared_error: 1.8750\n",
      "Epoch 59/100\n",
      "54269077/54269077 [==============================] - 256s 5us/step - loss: 16.6628 - root_mean_squared_error: 1.8752\n",
      "Epoch 60/100\n",
      "54269077/54269077 [==============================] - 257s 5us/step - loss: 16.6617 - root_mean_squared_error: 1.8752\n",
      "Epoch 61/100\n",
      "54269077/54269077 [==============================] - 256s 5us/step - loss: 16.6605 - root_mean_squared_error: 1.8748\n",
      "Epoch 62/100\n",
      "54269077/54269077 [==============================] - 256s 5us/step - loss: 16.6468 - root_mean_squared_error: 1.8747\n",
      "Epoch 63/100\n",
      "54269077/54269077 [==============================] - 255s 5us/step - loss: 16.6454 - root_mean_squared_error: 1.8746\n",
      "Epoch 64/100\n",
      "54269077/54269077 [==============================] - 257s 5us/step - loss: 16.6478 - root_mean_squared_error: 1.8745\n",
      "Epoch 65/100\n",
      "54269077/54269077 [==============================] - 258s 5us/step - loss: 16.6435 - root_mean_squared_error: 1.8745\n",
      "Epoch 66/100\n",
      "54269077/54269077 [==============================] - 261s 5us/step - loss: 16.6474 - root_mean_squared_error: 1.8744\n",
      "Epoch 67/100\n",
      "54269077/54269077 [==============================] - 258s 5us/step - loss: 16.6466 - root_mean_squared_error: 1.8742\n",
      "Epoch 68/100\n",
      "54269077/54269077 [==============================] - 261s 5us/step - loss: 16.6388 - root_mean_squared_error: 1.8740\n",
      "Epoch 69/100\n",
      "54269077/54269077 [==============================] - 257s 5us/step - loss: 16.6391 - root_mean_squared_error: 1.8741\n",
      "Epoch 70/100\n",
      "54269077/54269077 [==============================] - 262s 5us/step - loss: 16.6377 - root_mean_squared_error: 1.8739\n",
      "Epoch 71/100\n",
      "54269077/54269077 [==============================] - 259s 5us/step - loss: 16.6367 - root_mean_squared_error: 1.8739\n",
      "Epoch 72/100\n",
      "54269077/54269077 [==============================] - 262s 5us/step - loss: 16.6339 - root_mean_squared_error: 1.8739\n",
      "Epoch 73/100\n",
      "54269077/54269077 [==============================] - 258s 5us/step - loss: 16.6218 - root_mean_squared_error: 1.8735\n",
      "Epoch 74/100\n",
      "54269077/54269077 [==============================] - 261s 5us/step - loss: 16.6252 - root_mean_squared_error: 1.8736\n",
      "Epoch 75/100\n",
      "54269077/54269077 [==============================] - 258s 5us/step - loss: 16.6217 - root_mean_squared_error: 1.8734\n",
      "Epoch 76/100\n",
      "54269077/54269077 [==============================] - 260s 5us/step - loss: 16.6300 - root_mean_squared_error: 1.8734\n",
      "Epoch 77/100\n",
      "54269077/54269077 [==============================] - 257s 5us/step - loss: 16.6258 - root_mean_squared_error: 1.8736\n",
      "Epoch 78/100\n",
      "54269077/54269077 [==============================] - 260s 5us/step - loss: 16.6267 - root_mean_squared_error: 1.8733\n",
      "Epoch 79/100\n",
      "54269077/54269077 [==============================] - 260s 5us/step - loss: 16.6167 - root_mean_squared_error: 1.8733\n",
      "Epoch 80/100\n",
      "54269077/54269077 [==============================] - 260s 5us/step - loss: 16.6227 - root_mean_squared_error: 1.8732\n",
      "Epoch 81/100\n",
      "54269077/54269077 [==============================] - 257s 5us/step - loss: 16.6161 - root_mean_squared_error: 1.8732\n",
      "Epoch 82/100\n",
      "54269077/54269077 [==============================] - 261s 5us/step - loss: 16.6138 - root_mean_squared_error: 1.8731\n",
      "Epoch 83/100\n",
      "54269077/54269077 [==============================] - 258s 5us/step - loss: 16.6110 - root_mean_squared_error: 1.8731\n",
      "Epoch 84/100\n",
      "54269077/54269077 [==============================] - 259s 5us/step - loss: 16.6134 - root_mean_squared_error: 1.8730\n",
      "Epoch 85/100\n",
      "54269077/54269077 [==============================] - 257s 5us/step - loss: 16.6154 - root_mean_squared_error: 1.8730\n",
      "Epoch 86/100\n",
      "54269077/54269077 [==============================] - 260s 5us/step - loss: 16.6114 - root_mean_squared_error: 1.8728\n",
      "Epoch 87/100\n",
      "54269077/54269077 [==============================] - 257s 5us/step - loss: 16.6080 - root_mean_squared_error: 1.8727\n",
      "Epoch 88/100\n",
      "54269077/54269077 [==============================] - 260s 5us/step - loss: 16.6035 - root_mean_squared_error: 1.8728\n",
      "Epoch 89/100\n",
      "54269077/54269077 [==============================] - 258s 5us/step - loss: 16.6026 - root_mean_squared_error: 1.8726\n",
      "Epoch 90/100\n",
      "54269077/54269077 [==============================] - 260s 5us/step - loss: 16.6012 - root_mean_squared_error: 1.8726\n",
      "Epoch 91/100\n",
      "54269077/54269077 [==============================] - 257s 5us/step - loss: 16.5998 - root_mean_squared_error: 1.8726\n",
      "Epoch 92/100\n",
      "54269077/54269077 [==============================] - 259s 5us/step - loss: 16.6026 - root_mean_squared_error: 1.8726\n",
      "Epoch 93/100\n",
      "54269077/54269077 [==============================] - 257s 5us/step - loss: 16.6020 - root_mean_squared_error: 1.8724\n",
      "Epoch 94/100\n",
      "54269077/54269077 [==============================] - 260s 5us/step - loss: 16.6036 - root_mean_squared_error: 1.8727\n",
      "Epoch 95/100\n",
      "54269077/54269077 [==============================] - 257s 5us/step - loss: 16.6031 - root_mean_squared_error: 1.8725\n",
      "Epoch 96/100\n",
      "54269077/54269077 [==============================] - 259s 5us/step - loss: 16.5959 - root_mean_squared_error: 1.8725\n",
      "Epoch 97/100\n",
      "54269077/54269077 [==============================] - 257s 5us/step - loss: 16.5951 - root_mean_squared_error: 1.8723\n",
      "Epoch 98/100\n",
      "54269077/54269077 [==============================] - 258s 5us/step - loss: 16.5987 - root_mean_squared_error: 1.8723\n",
      "Epoch 99/100\n",
      "54269077/54269077 [==============================] - 257s 5us/step - loss: 16.5985 - root_mean_squared_error: 1.8723\n",
      "Epoch 100/100\n",
      "54269077/54269077 [==============================] - 257s 5us/step - loss: 16.5989 - root_mean_squared_error: 1.8722\n"
     ]
    },
    {
     "data": {
      "text/plain": [
       "<keras.callbacks.History at 0x1740e0869e8>"
      ]
     },
     "execution_count": 12,
     "metadata": {},
     "output_type": "execute_result"
    }
   ],
   "source": [
    "model2.fit(featuresS, target, epochs=100, batch_size=1500, verbose=1, callbacks=[learning_rate_reduction])"
   ]
  },
  {
   "cell_type": "markdown",
   "metadata": {},
   "source": [
    "# Apply my model into test part and create submission dataframe"
   ]
  },
  {
   "cell_type": "markdown",
   "metadata": {},
   "source": [
    "<span style=\"color:#be0119\"><b>\n",
    "--- comment ---</b>\n",
    "\n",
    "<span style=\"color:#1e488f\"> I prepeared my test data in the same way as my training set."
   ]
  },
  {
   "cell_type": "code",
   "execution_count": 14,
   "metadata": {},
   "outputs": [],
   "source": [
    "df_test = pd.read_csv('test_ready.csv')"
   ]
  },
  {
   "cell_type": "code",
   "execution_count": 15,
   "metadata": {},
   "outputs": [
    {
     "data": {
      "text/html": [
       "<div>\n",
       "<style scoped>\n",
       "    .dataframe tbody tr th:only-of-type {\n",
       "        vertical-align: middle;\n",
       "    }\n",
       "\n",
       "    .dataframe tbody tr th {\n",
       "        vertical-align: top;\n",
       "    }\n",
       "\n",
       "    .dataframe thead th {\n",
       "        text-align: right;\n",
       "    }\n",
       "</style>\n",
       "<table border=\"1\" class=\"dataframe\">\n",
       "  <thead>\n",
       "    <tr style=\"text-align: right;\">\n",
       "      <th></th>\n",
       "      <th>key</th>\n",
       "      <th>Distance</th>\n",
       "      <th>Pick_from_Center</th>\n",
       "      <th>Drop_from_Center</th>\n",
       "      <th>month</th>\n",
       "      <th>day_of_week_n</th>\n",
       "      <th>year_n</th>\n",
       "      <th>hour_n</th>\n",
       "    </tr>\n",
       "  </thead>\n",
       "  <tbody>\n",
       "    <tr>\n",
       "      <th>0</th>\n",
       "      <td>2015-01-27 13:08:24.0000002</td>\n",
       "      <td>2.3</td>\n",
       "      <td>2.4</td>\n",
       "      <td>4.7</td>\n",
       "      <td>1</td>\n",
       "      <td>1</td>\n",
       "      <td>15</td>\n",
       "      <td>2</td>\n",
       "    </tr>\n",
       "    <tr>\n",
       "      <th>1</th>\n",
       "      <td>2015-01-27 13:08:24.0000003</td>\n",
       "      <td>2.4</td>\n",
       "      <td>7.5</td>\n",
       "      <td>5.7</td>\n",
       "      <td>1</td>\n",
       "      <td>1</td>\n",
       "      <td>15</td>\n",
       "      <td>2</td>\n",
       "    </tr>\n",
       "    <tr>\n",
       "      <th>2</th>\n",
       "      <td>2011-10-08 11:53:44.0000002</td>\n",
       "      <td>0.6</td>\n",
       "      <td>3.9</td>\n",
       "      <td>4.4</td>\n",
       "      <td>10</td>\n",
       "      <td>3</td>\n",
       "      <td>11</td>\n",
       "      <td>2</td>\n",
       "    </tr>\n",
       "    <tr>\n",
       "      <th>3</th>\n",
       "      <td>2012-12-01 21:12:12.0000002</td>\n",
       "      <td>2.0</td>\n",
       "      <td>2.2</td>\n",
       "      <td>4.2</td>\n",
       "      <td>12</td>\n",
       "      <td>3</td>\n",
       "      <td>12</td>\n",
       "      <td>3</td>\n",
       "    </tr>\n",
       "    <tr>\n",
       "      <th>4</th>\n",
       "      <td>2012-12-01 21:12:12.0000003</td>\n",
       "      <td>5.4</td>\n",
       "      <td>0.6</td>\n",
       "      <td>4.8</td>\n",
       "      <td>12</td>\n",
       "      <td>3</td>\n",
       "      <td>12</td>\n",
       "      <td>3</td>\n",
       "    </tr>\n",
       "  </tbody>\n",
       "</table>\n",
       "</div>"
      ],
      "text/plain": [
       "                           key  Distance  Pick_from_Center  Drop_from_Center  \\\n",
       "0  2015-01-27 13:08:24.0000002       2.3               2.4               4.7   \n",
       "1  2015-01-27 13:08:24.0000003       2.4               7.5               5.7   \n",
       "2  2011-10-08 11:53:44.0000002       0.6               3.9               4.4   \n",
       "3  2012-12-01 21:12:12.0000002       2.0               2.2               4.2   \n",
       "4  2012-12-01 21:12:12.0000003       5.4               0.6               4.8   \n",
       "\n",
       "   month  day_of_week_n  year_n  hour_n  \n",
       "0      1              1      15       2  \n",
       "1      1              1      15       2  \n",
       "2     10              3      11       2  \n",
       "3     12              3      12       3  \n",
       "4     12              3      12       3  "
      ]
     },
     "execution_count": 15,
     "metadata": {},
     "output_type": "execute_result"
    }
   ],
   "source": [
    "df_test.head()"
   ]
  },
  {
   "cell_type": "code",
   "execution_count": 16,
   "metadata": {},
   "outputs": [
    {
     "data": {
      "text/plain": [
       "(9914, 7)"
      ]
     },
     "execution_count": 16,
     "metadata": {},
     "output_type": "execute_result"
    }
   ],
   "source": [
    "features2 = df_test.iloc[:, 1:].values\n",
    "features2.shape"
   ]
  },
  {
   "cell_type": "code",
   "execution_count": 17,
   "metadata": {},
   "outputs": [],
   "source": [
    "new_standart = StandardScaler()\n",
    "featuresS_test = new_standart.fit_transform(features2)"
   ]
  },
  {
   "cell_type": "code",
   "execution_count": 18,
   "metadata": {},
   "outputs": [],
   "source": [
    "pred_test = model2.predict(featuresS_test)"
   ]
  },
  {
   "cell_type": "code",
   "execution_count": 19,
   "metadata": {},
   "outputs": [],
   "source": [
    "submission = pd.DataFrame({ 'key': df_test.key.values,\n",
    "                            'fare_amount': pred_test.ravel() })"
   ]
  },
  {
   "cell_type": "code",
   "execution_count": 20,
   "metadata": {},
   "outputs": [],
   "source": [
    "submission = submission[['key', 'fare_amount']]"
   ]
  },
  {
   "cell_type": "code",
   "execution_count": 21,
   "metadata": {},
   "outputs": [],
   "source": [
    "submission.to_csv('submission2.csv', index=False)"
   ]
  },
  {
   "cell_type": "markdown",
   "metadata": {},
   "source": [
    "# Conclusion"
   ]
  },
  {
   "cell_type": "markdown",
   "metadata": {},
   "source": [
    "<span style=\"color:#be0119\"><b>\n",
    "--- comment ---</b>\n",
    "\n",
    "<span style=\"color:#1e488f\"> It was very interesting to go through this task, and as I used all data from this dataset I had many issues with my PC (lost of count how many times I restarted my PC). I was thinking to get more features from location but due resources limitation I skip it. I thought to create features which could give me understanding if car is moving to the center or from the city and create different categories depends of time of the day. Because traffic during the day is different, and very important where you are driving into center or out of city. "
   ]
  },
  {
   "cell_type": "markdown",
   "metadata": {},
   "source": [
    "RMSE = 1.8722"
   ]
  }
 ],
 "metadata": {
  "kernelspec": {
   "display_name": "Python 3",
   "language": "python",
   "name": "python3"
  },
  "language_info": {
   "codemirror_mode": {
    "name": "ipython",
    "version": 3
   },
   "file_extension": ".py",
   "mimetype": "text/x-python",
   "name": "python",
   "nbconvert_exporter": "python",
   "pygments_lexer": "ipython3",
   "version": "3.6.4"
  }
 },
 "nbformat": 4,
 "nbformat_minor": 2
}
