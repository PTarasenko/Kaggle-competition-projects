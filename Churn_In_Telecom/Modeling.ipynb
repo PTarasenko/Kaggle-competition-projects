{
 "cells": [
  {
   "cell_type": "markdown",
   "metadata": {},
   "source": [
    "<span style=\"color:#929591\">Chapter 3.\n",
    "# <span style=\"color:#820747\">Modeling - Classification problem."
   ]
  },
  {
   "cell_type": "markdown",
   "metadata": {},
   "source": [
    "<img src=\"img/main.jpg\">"
   ]
  },
  {
   "cell_type": "markdown",
   "metadata": {},
   "source": [
    "<span style=\"color:#be0119\"><b>\n",
    "--- comment ---</b>\n",
    "\n",
    "<span style=\"color:#1e488f\">\n",
    "In this part I will build couple models to solve my classification problem in predicting churn or not churn. I will use: LogisticRegression, RandomForestClasifire. I will find best predictors, and plot ROC AUC to show visually how good my predictions are."
   ]
  },
  {
   "cell_type": "markdown",
   "metadata": {},
   "source": [
    "# <span style=\"color:#a83c09\">Navigator:\n",
    "\n",
    "<b>[Dictionary](img/dictionary.txt)\n",
    "\n",
    "<b>[1. EDA](./EDA.ipynb)\n",
    "\n",
    "<b>[2. Feature engineering](./Feature_engineering.ipynb)"
   ]
  },
  {
   "cell_type": "markdown",
   "metadata": {},
   "source": [
    "<img src=\"img/lin.jpg\">"
   ]
  },
  {
   "cell_type": "markdown",
   "metadata": {},
   "source": [
    "# <span style=\"color:#a83c09\">Chapter 3 Structure:"
   ]
  },
  {
   "cell_type": "markdown",
   "metadata": {},
   "source": [
    "<b>Modeling</b><br>\n",
    "           1. Separation: Features and Target Splitting.\n",
    "           2. Standardization: All data into same scale.\n",
    "           3. Split: Train | Test.\n",
    "           4. Model: LogisticRegression.\n",
    "               - Fit Best Parameters into my Model.\n",
    "               - Confusion Matrix and Classification Report for LR Model.\n",
    "               - ROC AUC Curve For Binary Classification.\n",
    "               - Features Importance.\n",
    "           5. Model: RandomForestClassifier.\n",
    "               - Fit Best Parameters into my Model.\n",
    "               - Confusion Matrix and Classification Report for RF Model.\n",
    "               - ROC AUC Curve For Binary Classification.\n",
    "               - Features Importance."
   ]
  },
  {
   "cell_type": "markdown",
   "metadata": {},
   "source": [
    "<img src=\"img/lin.jpg\">"
   ]
  },
  {
   "cell_type": "code",
   "execution_count": 1,
   "metadata": {},
   "outputs": [],
   "source": [
    "import pandas as pd\n",
    "import numpy as np\n",
    "from numpy import *\n",
    "import seaborn as sns\n",
    "import matplotlib.pyplot as plt\n",
    "\n",
    "from sklearn.model_selection import train_test_split\n",
    "from sklearn.model_selection import cross_val_score\n",
    "from sklearn import metrics\n",
    "from sklearn.linear_model import LogisticRegression\n",
    "from sklearn.metrics import classification_report, confusion_matrix, accuracy_score, precision_recall_fscore_support\n",
    "from sklearn.model_selection import train_test_split, GridSearchCV\n",
    "from sklearn.tree import DecisionTreeClassifier\n",
    "from sklearn.model_selection import GridSearchCV\n",
    "from sklearn.ensemble import RandomForestClassifier\n",
    "from sklearn.preprocessing import StandardScaler\n",
    "from sklearn.metrics import roc_curve, auc"
   ]
  },
  {
   "cell_type": "code",
   "execution_count": 13,
   "metadata": {},
   "outputs": [
    {
     "data": {
      "text/html": [
       "<div>\n",
       "<style scoped>\n",
       "    .dataframe tbody tr th:only-of-type {\n",
       "        vertical-align: middle;\n",
       "    }\n",
       "\n",
       "    .dataframe tbody tr th {\n",
       "        vertical-align: top;\n",
       "    }\n",
       "\n",
       "    .dataframe thead th {\n",
       "        text-align: right;\n",
       "    }\n",
       "</style>\n",
       "<table border=\"1\" class=\"dataframe\">\n",
       "  <thead>\n",
       "    <tr style=\"text-align: right;\">\n",
       "      <th></th>\n",
       "      <th>churn</th>\n",
       "      <th>ALD_c</th>\n",
       "      <th>ALE_c</th>\n",
       "      <th>ALN_c</th>\n",
       "      <th>ALI_c</th>\n",
       "      <th>state_AK</th>\n",
       "      <th>state_AL</th>\n",
       "      <th>state_AR</th>\n",
       "      <th>state_AZ</th>\n",
       "      <th>state_CA</th>\n",
       "      <th>...</th>\n",
       "      <th>Tot_night_charge_0.0</th>\n",
       "      <th>Tot_night_charge_2.0</th>\n",
       "      <th>min_p_i_1.0</th>\n",
       "      <th>min_p_i_2.0</th>\n",
       "      <th>min_p_i_4.0</th>\n",
       "      <th>Tot_int_calls_0</th>\n",
       "      <th>Tot_int_calls_1</th>\n",
       "      <th>Tot_int_calls_2</th>\n",
       "      <th>Tot_int_charge_1.0</th>\n",
       "      <th>Tot_int_charge_2.0</th>\n",
       "    </tr>\n",
       "  </thead>\n",
       "  <tbody>\n",
       "    <tr>\n",
       "      <th>0</th>\n",
       "      <td>0</td>\n",
       "      <td>2.410000</td>\n",
       "      <td>1.993939</td>\n",
       "      <td>2.689011</td>\n",
       "      <td>3.333333</td>\n",
       "      <td>0</td>\n",
       "      <td>0</td>\n",
       "      <td>0</td>\n",
       "      <td>0</td>\n",
       "      <td>0</td>\n",
       "      <td>...</td>\n",
       "      <td>0</td>\n",
       "      <td>1</td>\n",
       "      <td>0</td>\n",
       "      <td>0</td>\n",
       "      <td>0</td>\n",
       "      <td>0</td>\n",
       "      <td>1</td>\n",
       "      <td>0</td>\n",
       "      <td>1</td>\n",
       "      <td>0</td>\n",
       "    </tr>\n",
       "    <tr>\n",
       "      <th>1</th>\n",
       "      <td>0</td>\n",
       "      <td>1.313821</td>\n",
       "      <td>1.898058</td>\n",
       "      <td>2.469903</td>\n",
       "      <td>4.566667</td>\n",
       "      <td>0</td>\n",
       "      <td>0</td>\n",
       "      <td>0</td>\n",
       "      <td>0</td>\n",
       "      <td>0</td>\n",
       "      <td>...</td>\n",
       "      <td>0</td>\n",
       "      <td>1</td>\n",
       "      <td>0</td>\n",
       "      <td>0</td>\n",
       "      <td>1</td>\n",
       "      <td>0</td>\n",
       "      <td>1</td>\n",
       "      <td>0</td>\n",
       "      <td>1</td>\n",
       "      <td>0</td>\n",
       "    </tr>\n",
       "    <tr>\n",
       "      <th>2</th>\n",
       "      <td>0</td>\n",
       "      <td>2.135088</td>\n",
       "      <td>1.101818</td>\n",
       "      <td>1.563462</td>\n",
       "      <td>2.440000</td>\n",
       "      <td>0</td>\n",
       "      <td>0</td>\n",
       "      <td>0</td>\n",
       "      <td>0</td>\n",
       "      <td>0</td>\n",
       "      <td>...</td>\n",
       "      <td>0</td>\n",
       "      <td>0</td>\n",
       "      <td>0</td>\n",
       "      <td>0</td>\n",
       "      <td>1</td>\n",
       "      <td>0</td>\n",
       "      <td>1</td>\n",
       "      <td>0</td>\n",
       "      <td>1</td>\n",
       "      <td>0</td>\n",
       "    </tr>\n",
       "  </tbody>\n",
       "</table>\n",
       "<p>3 rows × 123 columns</p>\n",
       "</div>"
      ],
      "text/plain": [
       "   churn     ALD_c     ALE_c     ALN_c     ALI_c  state_AK  state_AL  \\\n",
       "0      0  2.410000  1.993939  2.689011  3.333333         0         0   \n",
       "1      0  1.313821  1.898058  2.469903  4.566667         0         0   \n",
       "2      0  2.135088  1.101818  1.563462  2.440000         0         0   \n",
       "\n",
       "   state_AR  state_AZ  state_CA         ...          Tot_night_charge_0.0  \\\n",
       "0         0         0         0         ...                             0   \n",
       "1         0         0         0         ...                             0   \n",
       "2         0         0         0         ...                             0   \n",
       "\n",
       "   Tot_night_charge_2.0  min_p_i_1.0  min_p_i_2.0  min_p_i_4.0  \\\n",
       "0                     1            0            0            0   \n",
       "1                     1            0            0            1   \n",
       "2                     0            0            0            1   \n",
       "\n",
       "   Tot_int_calls_0  Tot_int_calls_1  Tot_int_calls_2  Tot_int_charge_1.0  \\\n",
       "0                0                1                0                   1   \n",
       "1                0                1                0                   1   \n",
       "2                0                1                0                   1   \n",
       "\n",
       "   Tot_int_charge_2.0  \n",
       "0                   0  \n",
       "1                   0  \n",
       "2                   0  \n",
       "\n",
       "[3 rows x 123 columns]"
      ]
     },
     "execution_count": 13,
     "metadata": {},
     "output_type": "execute_result"
    }
   ],
   "source": [
    "df = pd.read_csv('raw_modeling.csv')\n",
    "df.head(3)"
   ]
  },
  {
   "cell_type": "code",
   "execution_count": 14,
   "metadata": {},
   "outputs": [],
   "source": [
    "df.dropna(inplace=True)"
   ]
  },
  {
   "cell_type": "markdown",
   "metadata": {},
   "source": [
    "<img src=\"img/lin.jpg\">"
   ]
  },
  {
   "cell_type": "markdown",
   "metadata": {},
   "source": [
    "# <span style=\"color:#ffad01\">1. Separation: <span style=\"color:#004577\">Features and Target Splitting."
   ]
  },
  {
   "cell_type": "markdown",
   "metadata": {},
   "source": [
    "<span style=\"color:#be0119\"><b>\n",
    "--- comment ---</b>\n",
    "\n",
    "<span style=\"color:#1e488f\">I use iloc to slice my dataset by index. I put my predictors into \"features\" variable and my target I keep separate."
   ]
  },
  {
   "cell_type": "code",
   "execution_count": 15,
   "metadata": {},
   "outputs": [
    {
     "data": {
      "text/html": [
       "<div>\n",
       "<style scoped>\n",
       "    .dataframe tbody tr th:only-of-type {\n",
       "        vertical-align: middle;\n",
       "    }\n",
       "\n",
       "    .dataframe tbody tr th {\n",
       "        vertical-align: top;\n",
       "    }\n",
       "\n",
       "    .dataframe thead th {\n",
       "        text-align: right;\n",
       "    }\n",
       "</style>\n",
       "<table border=\"1\" class=\"dataframe\">\n",
       "  <thead>\n",
       "    <tr style=\"text-align: right;\">\n",
       "      <th></th>\n",
       "      <th>ALD_c</th>\n",
       "      <th>ALE_c</th>\n",
       "      <th>ALN_c</th>\n",
       "      <th>ALI_c</th>\n",
       "      <th>state_AK</th>\n",
       "      <th>state_AL</th>\n",
       "      <th>state_AR</th>\n",
       "      <th>state_AZ</th>\n",
       "      <th>state_CA</th>\n",
       "      <th>state_CO</th>\n",
       "      <th>...</th>\n",
       "      <th>Tot_night_charge_0.0</th>\n",
       "      <th>Tot_night_charge_2.0</th>\n",
       "      <th>min_p_i_1.0</th>\n",
       "      <th>min_p_i_2.0</th>\n",
       "      <th>min_p_i_4.0</th>\n",
       "      <th>Tot_int_calls_0</th>\n",
       "      <th>Tot_int_calls_1</th>\n",
       "      <th>Tot_int_calls_2</th>\n",
       "      <th>Tot_int_charge_1.0</th>\n",
       "      <th>Tot_int_charge_2.0</th>\n",
       "    </tr>\n",
       "  </thead>\n",
       "  <tbody>\n",
       "    <tr>\n",
       "      <th>0</th>\n",
       "      <td>2.410000</td>\n",
       "      <td>1.993939</td>\n",
       "      <td>2.689011</td>\n",
       "      <td>3.333333</td>\n",
       "      <td>0</td>\n",
       "      <td>0</td>\n",
       "      <td>0</td>\n",
       "      <td>0</td>\n",
       "      <td>0</td>\n",
       "      <td>0</td>\n",
       "      <td>...</td>\n",
       "      <td>0</td>\n",
       "      <td>1</td>\n",
       "      <td>0</td>\n",
       "      <td>0</td>\n",
       "      <td>0</td>\n",
       "      <td>0</td>\n",
       "      <td>1</td>\n",
       "      <td>0</td>\n",
       "      <td>1</td>\n",
       "      <td>0</td>\n",
       "    </tr>\n",
       "    <tr>\n",
       "      <th>1</th>\n",
       "      <td>1.313821</td>\n",
       "      <td>1.898058</td>\n",
       "      <td>2.469903</td>\n",
       "      <td>4.566667</td>\n",
       "      <td>0</td>\n",
       "      <td>0</td>\n",
       "      <td>0</td>\n",
       "      <td>0</td>\n",
       "      <td>0</td>\n",
       "      <td>0</td>\n",
       "      <td>...</td>\n",
       "      <td>0</td>\n",
       "      <td>1</td>\n",
       "      <td>0</td>\n",
       "      <td>0</td>\n",
       "      <td>1</td>\n",
       "      <td>0</td>\n",
       "      <td>1</td>\n",
       "      <td>0</td>\n",
       "      <td>1</td>\n",
       "      <td>0</td>\n",
       "    </tr>\n",
       "  </tbody>\n",
       "</table>\n",
       "<p>2 rows × 122 columns</p>\n",
       "</div>"
      ],
      "text/plain": [
       "      ALD_c     ALE_c     ALN_c     ALI_c  state_AK  state_AL  state_AR  \\\n",
       "0  2.410000  1.993939  2.689011  3.333333         0         0         0   \n",
       "1  1.313821  1.898058  2.469903  4.566667         0         0         0   \n",
       "\n",
       "   state_AZ  state_CA  state_CO         ...          Tot_night_charge_0.0  \\\n",
       "0         0         0         0         ...                             0   \n",
       "1         0         0         0         ...                             0   \n",
       "\n",
       "   Tot_night_charge_2.0  min_p_i_1.0  min_p_i_2.0  min_p_i_4.0  \\\n",
       "0                     1            0            0            0   \n",
       "1                     1            0            0            1   \n",
       "\n",
       "   Tot_int_calls_0  Tot_int_calls_1  Tot_int_calls_2  Tot_int_charge_1.0  \\\n",
       "0                0                1                0                   1   \n",
       "1                0                1                0                   1   \n",
       "\n",
       "   Tot_int_charge_2.0  \n",
       "0                   0  \n",
       "1                   0  \n",
       "\n",
       "[2 rows x 122 columns]"
      ]
     },
     "execution_count": 15,
     "metadata": {},
     "output_type": "execute_result"
    }
   ],
   "source": [
    "features = df.iloc[:, 1:]\n",
    "features.head(2)"
   ]
  },
  {
   "cell_type": "code",
   "execution_count": 16,
   "metadata": {},
   "outputs": [
    {
     "data": {
      "text/html": [
       "<div>\n",
       "<style scoped>\n",
       "    .dataframe tbody tr th:only-of-type {\n",
       "        vertical-align: middle;\n",
       "    }\n",
       "\n",
       "    .dataframe tbody tr th {\n",
       "        vertical-align: top;\n",
       "    }\n",
       "\n",
       "    .dataframe thead th {\n",
       "        text-align: right;\n",
       "    }\n",
       "</style>\n",
       "<table border=\"1\" class=\"dataframe\">\n",
       "  <thead>\n",
       "    <tr style=\"text-align: right;\">\n",
       "      <th></th>\n",
       "      <th>churn</th>\n",
       "    </tr>\n",
       "  </thead>\n",
       "  <tbody>\n",
       "    <tr>\n",
       "      <th>0</th>\n",
       "      <td>0</td>\n",
       "    </tr>\n",
       "    <tr>\n",
       "      <th>1</th>\n",
       "      <td>0</td>\n",
       "    </tr>\n",
       "  </tbody>\n",
       "</table>\n",
       "</div>"
      ],
      "text/plain": [
       "   churn\n",
       "0      0\n",
       "1      0"
      ]
     },
     "execution_count": 16,
     "metadata": {},
     "output_type": "execute_result"
    }
   ],
   "source": [
    "target = df.iloc[:, 0:1]\n",
    "target.head(2)"
   ]
  },
  {
   "cell_type": "code",
   "execution_count": 17,
   "metadata": {},
   "outputs": [
    {
     "data": {
      "text/plain": [
       "((3312, 122), (3312, 1))"
      ]
     },
     "execution_count": 17,
     "metadata": {},
     "output_type": "execute_result"
    }
   ],
   "source": [
    "# Check shape of my slises.\n",
    "# ________________________________________________________\n",
    "features.shape, target.shape"
   ]
  },
  {
   "cell_type": "markdown",
   "metadata": {},
   "source": [
    "<img src=\"img/lin.jpg\">"
   ]
  },
  {
   "cell_type": "markdown",
   "metadata": {},
   "source": [
    "# <span style=\"color:#ffad01\">2. Standardization: <span style=\"color:#004577\">All data into same scale."
   ]
  },
  {
   "cell_type": "markdown",
   "metadata": {},
   "source": [
    "<span style=\"color:#be0119\"><b>\n",
    "--- comment ---</b>\n",
    "\n",
    "<span style=\"color:#1e488f\">I use <b>StandardScaler</b> from sklearn library for my features standardization. The idea behind StandardScaler is that it will transform my data such that its distribution will have a mean value 0 and standard deviation of 1. The scaler instance can then be used on new data to transform it the same way it did on the training set. I will save all my standardized values in featuresS variable."
   ]
  },
  {
   "cell_type": "code",
   "execution_count": 18,
   "metadata": {},
   "outputs": [],
   "source": [
    "new_standart = StandardScaler()\n",
    "featuresS = new_standart.fit_transform(features)"
   ]
  },
  {
   "cell_type": "code",
   "execution_count": 20,
   "metadata": {},
   "outputs": [
    {
     "data": {
      "text/plain": [
       "array([[ 0.73374553, -0.14185222,  0.84147959, ..., -0.61364371,\n",
       "         0.47514071, -0.21932001],\n",
       "       [-0.76640516, -0.26538293,  0.5328898 , ..., -0.61364371,\n",
       "         0.47514071, -0.21932001],\n",
       "       [ 0.35752057, -1.29123746, -0.74373386, ..., -0.61364371,\n",
       "         0.47514071, -0.21932001],\n",
       "       ...,\n",
       "       [-0.29440768,  3.7044203 ,  0.02430342, ...,  1.62961012,\n",
       "         0.47514071, -0.21932001],\n",
       "       [ 0.22217699, -0.26288123, -1.51469139, ...,  1.62961012,\n",
       "        -2.10463968, -0.21932001],\n",
       "       [ 0.27438057,  1.46699573,  1.46969785, ..., -0.61364371,\n",
       "         0.47514071, -0.21932001]])"
      ]
     },
     "execution_count": 20,
     "metadata": {},
     "output_type": "execute_result"
    }
   ],
   "source": [
    "featuresS"
   ]
  },
  {
   "cell_type": "markdown",
   "metadata": {},
   "source": [
    "<img src=\"img/lin.jpg\">"
   ]
  },
  {
   "cell_type": "markdown",
   "metadata": {},
   "source": [
    "# <span style=\"color:#ffad01\">3. Split: <span style=\"color:#004577\">Train | Test."
   ]
  },
  {
   "cell_type": "markdown",
   "metadata": {},
   "source": [
    "<span style=\"color:#be0119\"><b>\n",
    "--- comment ---</b>\n",
    "\n",
    "<span style=\"color:#1e488f\">I use <b>Train_test_split</b> from sklearn liberary for splitting my data. It is split arrays or matrices into random train and test subsets. I passing my features and target variables into train_test_split and set <b>Test_size</b> 0.20 which is means, my train subset will be 80% of all my data and 20% will be deferred selection or testing part. <b>Stratify</b> parameter makes a split so that the proportion of values in the sample produced will be the same as the proportion of values provided to parameter stratify. And I set <b>Random_state</b> which I use for the same split each time I run line of this code. Also I transformed my y_test and y_train into 1D format, and checked my <b>Baseline</b>. I have to get score in my models higher than in baseline."
   ]
  },
  {
   "cell_type": "code",
   "execution_count": 23,
   "metadata": {},
   "outputs": [],
   "source": [
    "X_train, X_test, y_train, y_test = train_test_split(featuresS, target, test_size=0.20, stratify=target, random_state=21)"
   ]
  },
  {
   "cell_type": "code",
   "execution_count": 24,
   "metadata": {},
   "outputs": [
    {
     "name": "stdout",
     "output_type": "stream",
     "text": [
      "------------------------------\n",
      "X_train shape:  (2649, 122)\n",
      "y_train shape:  (2649, 1)\n",
      "------------------------------\n",
      "X_test shape:  (663, 122)\n",
      "y_test shape:  (663, 1)\n",
      "------------------------------\n"
     ]
    }
   ],
   "source": [
    "# Check shape for new splits. \n",
    "# ________________________________________________________\n",
    "print('------------------------------')\n",
    "print('X_train shape: ',X_train.shape)\n",
    "print('y_train shape: ',y_train.shape)\n",
    "print('------------------------------')\n",
    "print('X_test shape: ',X_test.shape)\n",
    "print('y_test shape: ',y_test.shape)\n",
    "print('------------------------------')"
   ]
  },
  {
   "cell_type": "code",
   "execution_count": 25,
   "metadata": {},
   "outputs": [],
   "source": [
    "# From 2D to 1D\n",
    "# ________________________________________________________\n",
    "yt = y_train.values\n",
    "ytst = y_test.values"
   ]
  },
  {
   "cell_type": "code",
   "execution_count": 26,
   "metadata": {},
   "outputs": [
    {
     "name": "stdout",
     "output_type": "stream",
     "text": [
      "My Baseline is:  0.8544685990338164\n"
     ]
    }
   ],
   "source": [
    "# Baseline for whole my target\n",
    "# ________________________________________________________\n",
    "bl = 1 - target.mean()\n",
    "print('My Baseline is: ',bl[0])"
   ]
  },
  {
   "cell_type": "markdown",
   "metadata": {},
   "source": [
    "<img src=\"img/lin.jpg\">"
   ]
  },
  {
   "cell_type": "markdown",
   "metadata": {},
   "source": [
    "# <span style=\"color:#ffad01\">4. Model: <span style=\"color:#004577\">LogisticRegression."
   ]
  },
  {
   "cell_type": "markdown",
   "metadata": {},
   "source": [
    "<span style=\"color:#be0119\"><b>\n",
    "--- comment ---</b>\n",
    "\n",
    "<span style=\"color:#1e488f\">As Logistic regression is a famous classifier and still used frequently today I use it as my first model. First stage will be find better hyperparameters for my model using <b>GridSearch</b>. The regularization parameter <b>\"C\"</b> in logistic regression is used allow the function to be fitted to be well defined and avoid either overfitting or problems with step functions. Smaller value of \"C\" specify stronger regularization."
   ]
  },
  {
   "cell_type": "code",
   "execution_count": 47,
   "metadata": {},
   "outputs": [
    {
     "name": "stdout",
     "output_type": "stream",
     "text": [
      "Fitting 5 folds for each of 6 candidates, totalling 30 fits\n",
      "{'C': 0.3, 'penalty': 'l2', 'solver': 'liblinear'}\n",
      "Wall time: 1.63 s\n"
     ]
    },
    {
     "name": "stderr",
     "output_type": "stream",
     "text": [
      "[Parallel(n_jobs=1)]: Done  30 out of  30 | elapsed:    1.5s finished\n"
     ]
    }
   ],
   "source": [
    "%%time\n",
    "lr_params = {\n",
    "    'penalty':['l2', 'l1'],\n",
    "    'C':[0.5, 0.4, 0.3],\n",
    "    'solver':['liblinear']\n",
    "}\n",
    "\n",
    "lr_gs = GridSearchCV(LogisticRegression(), lr_params, cv=5, verbose=1)\n",
    "lr_gs.fit(X_train, yt.ravel())\n",
    "\n",
    "best_lr = lr_gs.best_estimator_\n",
    "print(lr_gs.best_params_)"
   ]
  },
  {
   "cell_type": "markdown",
   "metadata": {},
   "source": [
    "# <span style=\"color:#7f7053\">- Fit Best Parameters into my Model."
   ]
  },
  {
   "cell_type": "code",
   "execution_count": 30,
   "metadata": {},
   "outputs": [],
   "source": [
    "# Use cross validation with 4 folds. \n",
    "# ________________________________________________________\n",
    "lreg = cross_val_score(LogisticRegression(penalty='l2', C=0.3), X_train, yt.ravel(), cv=5)"
   ]
  },
  {
   "cell_type": "code",
   "execution_count": 31,
   "metadata": {},
   "outputs": [
    {
     "name": "stdout",
     "output_type": "stream",
     "text": [
      "[0.86817326 0.88490566 0.88490566 0.87901701 0.88279773] 0.879959864711999\n"
     ]
    }
   ],
   "source": [
    "# Print my values which I got with cross validation and mean for them.\n",
    "# ________________________________________________________\n",
    "print (lreg, np.mean(lreg))"
   ]
  },
  {
   "cell_type": "code",
   "execution_count": 38,
   "metadata": {},
   "outputs": [
    {
     "name": "stdout",
     "output_type": "stream",
     "text": [
      "Wall time: 62.9 ms\n"
     ]
    }
   ],
   "source": [
    "%%time\n",
    "# Fit my LogisticRegression model.\n",
    "# ________________________________________________________\n",
    "lr = LogisticRegression(penalty='l2', C=0.3)\n",
    "lr.fit(X_train, yt.ravel())"
   ]
  },
  {
   "cell_type": "code",
   "execution_count": 39,
   "metadata": {},
   "outputs": [
    {
     "name": "stdout",
     "output_type": "stream",
     "text": [
      "--------------------------------\n",
      "My Train Score:  0.8942997357493394\n",
      "--------------------------------\n",
      "My Test Score:  0.8808446455505279\n",
      "--------------------------------\n"
     ]
    }
   ],
   "source": [
    "print('--------------------------------')\n",
    "print(\"My Train Score: \", lr.score(X_train, y_train))\n",
    "print('--------------------------------')\n",
    "print(\"My Test Score: \", lr.score(X_test, ytst))\n",
    "print('--------------------------------')"
   ]
  },
  {
   "cell_type": "markdown",
   "metadata": {},
   "source": [
    "# <span style=\"color:#7f7053\">- Confusion Matrix and Classification Report for LR Model."
   ]
  },
  {
   "cell_type": "markdown",
   "metadata": {},
   "source": [
    "<span style=\"color:#be0119\"><b>\n",
    "--- comment ---</b>\n",
    "\n",
    "<span style=\"color:#1e488f\">A <b>Confusion Matrix</b> is a technique for summarizing the performance of a classification algorithm. Calculating a confusion matrix can give us a better idea of what our classification model is getting right and what types of errors it is making. In this case I'm getting <b>37 true positive</b> values and <b>547 true negative</b>. My errors for true positive is higher thats because of class imbalanced problem in our data which helps us predict better when there is no churn. Also I printing out my <b>Classification report</b>."
   ]
  },
  {
   "cell_type": "code",
   "execution_count": 43,
   "metadata": {},
   "outputs": [
    {
     "name": "stdout",
     "output_type": "stream",
     "text": [
      "     0   1\n",
      "0  547  20\n",
      "1   59  37\n",
      "   TN   FP\n",
      "   FN   TP\n",
      "\n",
      "\n",
      "precision = 0.88, recall = 0.88, F1 = 0.88, accuracy = 0.88\n",
      "\n"
     ]
    }
   ],
   "source": [
    "y_probs = lr.predict(X_test)\n",
    "print(pd.DataFrame(confusion_matrix(ytst, y_probs)))\n",
    "print('   '+'TN'+'   '+'FP')                                          \n",
    "print('   '+'FN'+'   '+'TP')                                          \n",
    "print('')\n",
    "# Printing classification report\n",
    "report_svm = precision_recall_fscore_support(list(ytst), list(y_probs), average='micro')\n",
    "print (\"\\nprecision = %0.2f, recall = %0.2f, F1 = %0.2f, accuracy = %0.2f\\n\" % \\\n",
    "        (report_svm[0], report_svm[1], report_svm[2], accuracy_score(list(ytst), list(y_probs))))"
   ]
  },
  {
   "cell_type": "code",
   "execution_count": 68,
   "metadata": {},
   "outputs": [
    {
     "name": "stdout",
     "output_type": "stream",
     "text": [
      "[[0.8655365  0.1344635 ]\n",
      " [0.9793981  0.0206019 ]\n",
      " [0.97341272 0.02658728]\n",
      " ...\n",
      " [0.92635868 0.07364132]\n",
      " [0.92413471 0.07586529]\n",
      " [0.94011167 0.05988833]]\n"
     ]
    }
   ],
   "source": [
    "print (lr.predict_proba(X_test))"
   ]
  },
  {
   "cell_type": "markdown",
   "metadata": {},
   "source": [
    "# <span style=\"color:#7f7053\">- ROC AUC Curve For Binary Classification."
   ]
  },
  {
   "cell_type": "markdown",
   "metadata": {},
   "source": [
    "<span style=\"color:#be0119\"><b>\n",
    "--- comment ---</b>\n",
    "\n",
    "<span style=\"color:#1e488f\">Area under the curve is used in classification analysis in order to determine how good model predicts the classes. Also in my <b>AUC score is 0.84</b> which is good, and I'm predicting pretty well as I getting more true possitive results than false positive. "
   ]
  },
  {
   "cell_type": "code",
   "execution_count": 44,
   "metadata": {},
   "outputs": [
    {
     "data": {
      "image/png": "[encoded data removed]",
      "text/plain": [
       "<matplotlib.figure.Figure at 0x22eba26f358>"
      ]
     },
     "metadata": {},
     "output_type": "display_data"
    }
   ],
   "source": [
    "fig, ax = plt.subplots(figsize=(12,7))\n",
    "y_pred_proba = lr.predict_proba(X_test)[::,1]\n",
    "fpr, tpr, _ = metrics.roc_curve(ytst,  y_pred_proba)\n",
    "auc = metrics.roc_auc_score(ytst, y_pred_proba)\n",
    "plt.plot(fpr, tpr, label=\"AUC = \"+str(auc), linewidth=4, color='#9f2305')\n",
    "plt.title('ROC AUC curve for binary classification', size = 20, color='r')\n",
    "plt.plot([0, 1], [0, 1], color='navy', lw=2, linestyle='--')\n",
    "plt.xlabel('False Positive Rate', fontsize=18)\n",
    "plt.ylabel('True Positive Rate', fontsize=18)\n",
    "plt.legend(loc=4, fontsize = 'xx-large')\n",
    "plt.show()"
   ]
  },
  {
   "cell_type": "markdown",
   "metadata": {},
   "source": [
    "# <span style=\"color:#7f7053\">- Features Importance."
   ]
  },
  {
   "cell_type": "markdown",
   "metadata": {},
   "source": [
    "<span style=\"color:#be0119\"><b>\n",
    "--- comment ---</b>\n",
    "\n",
    "<span style=\"color:#1e488f\">Negative coefficients mean that one, on average, moves the prediction closer to being a negative example in my case 0. Positive coefficients move on closer to being classified as a positive example, on average in my case 1. I use lr.coef_.flatten(), to put my coefficient in to the list 1 dimensional from array. I can show my 10 best predictors for for my Logistic Regression model as absolute values of my coefficient - Abs Coef. International plan is the best predictor as we remember from EDA almost all customers with this plan left."
   ]
  },
  {
   "cell_type": "code",
   "execution_count": 45,
   "metadata": {},
   "outputs": [
    {
     "data": {
      "text/html": [
       "<div>\n",
       "<style scoped>\n",
       "    .dataframe tbody tr th:only-of-type {\n",
       "        vertical-align: middle;\n",
       "    }\n",
       "\n",
       "    .dataframe tbody tr th {\n",
       "        vertical-align: top;\n",
       "    }\n",
       "\n",
       "    .dataframe thead th {\n",
       "        text-align: right;\n",
       "    }\n",
       "</style>\n",
       "<table border=\"1\" class=\"dataframe\">\n",
       "  <thead>\n",
       "    <tr style=\"text-align: right;\">\n",
       "      <th></th>\n",
       "      <th>Abs_coef</th>\n",
       "      <th>Coef</th>\n",
       "      <th>Feature</th>\n",
       "    </tr>\n",
       "  </thead>\n",
       "  <tbody>\n",
       "    <tr>\n",
       "      <th>58</th>\n",
       "      <td>0.706963</td>\n",
       "      <td>0.706963</td>\n",
       "      <td>int_plan_yes</td>\n",
       "    </tr>\n",
       "    <tr>\n",
       "      <th>59</th>\n",
       "      <td>0.492932</td>\n",
       "      <td>-0.492932</td>\n",
       "      <td>voice_mail_plan_yes</td>\n",
       "    </tr>\n",
       "    <tr>\n",
       "      <th>64</th>\n",
       "      <td>0.485748</td>\n",
       "      <td>0.485748</td>\n",
       "      <td>cust_service_calls_4</td>\n",
       "    </tr>\n",
       "    <tr>\n",
       "      <th>65</th>\n",
       "      <td>0.450807</td>\n",
       "      <td>0.450807</td>\n",
       "      <td>cust_service_calls_5</td>\n",
       "    </tr>\n",
       "    <tr>\n",
       "      <th>80</th>\n",
       "      <td>0.410636</td>\n",
       "      <td>-0.410636</td>\n",
       "      <td>min_p_d_5.0</td>\n",
       "    </tr>\n",
       "    <tr>\n",
       "      <th>89</th>\n",
       "      <td>0.304722</td>\n",
       "      <td>0.304722</td>\n",
       "      <td>Tot_day_charge_2.0</td>\n",
       "    </tr>\n",
       "    <tr>\n",
       "      <th>66</th>\n",
       "      <td>0.291629</td>\n",
       "      <td>0.291629</td>\n",
       "      <td>cust_service_calls_6</td>\n",
       "    </tr>\n",
       "    <tr>\n",
       "      <th>117</th>\n",
       "      <td>0.284171</td>\n",
       "      <td>0.284171</td>\n",
       "      <td>Tot_int_calls_0</td>\n",
       "    </tr>\n",
       "    <tr>\n",
       "      <th>105</th>\n",
       "      <td>0.283712</td>\n",
       "      <td>0.283712</td>\n",
       "      <td>min_p_n_6.0</td>\n",
       "    </tr>\n",
       "    <tr>\n",
       "      <th>0</th>\n",
       "      <td>0.266104</td>\n",
       "      <td>0.266104</td>\n",
       "      <td>ALD_c</td>\n",
       "    </tr>\n",
       "  </tbody>\n",
       "</table>\n",
       "</div>"
      ],
      "text/plain": [
       "     Abs_coef      Coef               Feature\n",
       "58   0.706963  0.706963          int_plan_yes\n",
       "59   0.492932 -0.492932   voice_mail_plan_yes\n",
       "64   0.485748  0.485748  cust_service_calls_4\n",
       "65   0.450807  0.450807  cust_service_calls_5\n",
       "80   0.410636 -0.410636           min_p_d_5.0\n",
       "89   0.304722  0.304722    Tot_day_charge_2.0\n",
       "66   0.291629  0.291629  cust_service_calls_6\n",
       "117  0.284171  0.284171       Tot_int_calls_0\n",
       "105  0.283712  0.283712           min_p_n_6.0\n",
       "0    0.266104  0.266104                 ALD_c"
      ]
     },
     "execution_count": 45,
     "metadata": {},
     "output_type": "execute_result"
    }
   ],
   "source": [
    "# Create dataframe to look at coefficients of each feature.\n",
    "# ________________________________________________________\n",
    "logreg_coefs = pd.DataFrame({'Feature':features.columns,\n",
    "                             'Coef':lr.coef_.flatten(),\n",
    "                             'Abs_coef':np.abs(lr.coef_.flatten())})\n",
    "\n",
    "logreg_coefs.sort_values('Abs_coef', inplace=True, ascending=False)\n",
    "logreg_coefs.head(10)"
   ]
  },
  {
   "cell_type": "code",
   "execution_count": 46,
   "metadata": {},
   "outputs": [
    {
     "data": {
      "image/png": "[encoded data removed]",
      "text/plain": [
       "<matplotlib.figure.Figure at 0x22ebb85de48>"
      ]
     },
     "metadata": {},
     "output_type": "display_data"
    }
   ],
   "source": [
    "ax = logreg_coefs[['Abs_coef', 'Feature']].head(10).plot(kind='bar', figsize = (10,5), color=['#820747'])\n",
    "ax.set_xticklabels(logreg_coefs.Feature.head(10))\n",
    "plt.ylabel('Strenght of the feature', fontsize=14, weight = 'bold', labelpad=12)\n",
    "plt.setp(ax.get_xticklabels(), fontsize=12, ha = 'right', rotation = 70, weight = 'bold')\n",
    "plt.suptitle('Features Importance for the LogisticRegression', size=16, color='#8f1402', weight = 'bold')\n",
    "ax.legend().set_visible(False)\n",
    "\n",
    "plt.show()"
   ]
  },
  {
   "cell_type": "markdown",
   "metadata": {},
   "source": [
    "<img src=\"img/lin.jpg\">"
   ]
  },
  {
   "cell_type": "markdown",
   "metadata": {},
   "source": [
    "# <span style=\"color:#ffad01\">5. Model: <span style=\"color:#004577\">RandomForestClassifier."
   ]
  },
  {
   "cell_type": "markdown",
   "metadata": {},
   "source": [
    "<span style=\"color:#be0119\"><b>\n",
    "--- comment ---</b>\n",
    "\n",
    "<span style=\"color:#1e488f\">Random Forest Classifier is ensemble algorithm. Ensembled algorithms are those which combines more than one algorithms of same or different kind for classifying objects. And then taking vote for final consideration of class for test object. As usual I will follow step by step in building my model and I will give some reports."
   ]
  },
  {
   "cell_type": "markdown",
   "metadata": {},
   "source": [
    "# <span style=\"color:#7f7053\">- GridSearch for RandomForestClassifier."
   ]
  },
  {
   "cell_type": "code",
   "execution_count": 48,
   "metadata": {},
   "outputs": [
    {
     "name": "stdout",
     "output_type": "stream",
     "text": [
      "Fitting 5 folds for each of 16 candidates, totalling 80 fits\n",
      "{'criterion': 'gini', 'min_samples_leaf': 1, 'min_samples_split': 3, 'n_estimators': 51, 'random_state': 123}\n",
      "Wall time: 9.62 s\n"
     ]
    },
    {
     "name": "stderr",
     "output_type": "stream",
     "text": [
      "[Parallel(n_jobs=1)]: Done  80 out of  80 | elapsed:    9.4s finished\n"
     ]
    }
   ],
   "source": [
    "%%time\n",
    "params = {'criterion':['gini'],\n",
    "          'n_estimators':[41, 51, 61, 31],\n",
    "          'min_samples_leaf':[1,2],\n",
    "          'min_samples_split':[2, 3], \n",
    "          'random_state':[123]}\n",
    "#Making models with hyper parameters sets\n",
    "Rforest_gs = GridSearchCV(RandomForestClassifier(), param_grid=params, cv=5, verbose=1)\n",
    "Rforest_gs.fit(X_train, yt.ravel())\n",
    "print(Rforest_gs.best_params_)"
   ]
  },
  {
   "cell_type": "markdown",
   "metadata": {},
   "source": [
    "# <span style=\"color:#7f7053\">- Fit Best Parameters into my RF Model."
   ]
  },
  {
   "cell_type": "code",
   "execution_count": 55,
   "metadata": {},
   "outputs": [
    {
     "name": "stdout",
     "output_type": "stream",
     "text": [
      "Wall time: 140 ms\n"
     ]
    }
   ],
   "source": [
    "%%time\n",
    "# Fit my DecisionTreeClassifier model.\n",
    "# ________________________________________________________\n",
    "forest = RandomForestClassifier(criterion='gini', min_samples_leaf=1, min_samples_split=3, n_estimators=51, random_state=123)\n",
    "forest.fit(X_train, yt.ravel())"
   ]
  },
  {
   "cell_type": "code",
   "execution_count": 56,
   "metadata": {},
   "outputs": [
    {
     "name": "stdout",
     "output_type": "stream",
     "text": [
      "--------------------------------\n",
      "My Train Score:  0.9966024915062288\n",
      "--------------------------------\n",
      "My Test Score:  0.8868778280542986\n",
      "--------------------------------\n"
     ]
    }
   ],
   "source": [
    "print('--------------------------------')\n",
    "print(\"My Train Score: \", forest.score(X_train, y_train))\n",
    "print('--------------------------------')\n",
    "print(\"My Test Score: \", forest.score(X_test, ytst))\n",
    "print('--------------------------------')"
   ]
  },
  {
   "cell_type": "markdown",
   "metadata": {},
   "source": [
    "# <span style=\"color:#7f7053\">- Confusion Matrix and Classification Report for RF Model."
   ]
  },
  {
   "cell_type": "markdown",
   "metadata": {},
   "source": [
    "<span style=\"color:#be0119\"><b>\n",
    "--- comment ---</b>\n",
    "\n",
    "<span style=\"color:#1e488f\">Confusion Matrix for the RandomForestClassifier is <b>24 true positive</b> values and <b> 564 true negative</b>. This time we do less errors on <b>false positive 3</b> and for the false negative we had worst result, same issue class imbalance <b> 72</b>."
   ]
  },
  {
   "cell_type": "code",
   "execution_count": 59,
   "metadata": {},
   "outputs": [
    {
     "name": "stdout",
     "output_type": "stream",
     "text": [
      "     0   1\n",
      "0  564   3\n",
      "1   72  24\n",
      "   TN    FP\n",
      "   FN    TP\n",
      "\n",
      "\n",
      "precision = 0.89, recall = 0.89, F1 = 0.89, accuracy = 0.89\n",
      "\n"
     ]
    }
   ],
   "source": [
    "y_probs1 = forest.predict(X_test)\n",
    "print(pd.DataFrame(confusion_matrix(ytst, y_probs1)))\n",
    "print('   '+'TN'+'    '+'FP')                                          \n",
    "print('   '+'FN'+'    '+'TP')                                          \n",
    "print('')\n",
    "# Printing classification report\n",
    "report_svm = precision_recall_fscore_support(list(ytst), list(y_probs1), average='micro')\n",
    "print (\"\\nprecision = %0.2f, recall = %0.2f, F1 = %0.2f, accuracy = %0.2f\\n\" % \\\n",
    "        (report_svm[0], report_svm[1], report_svm[2], accuracy_score(list(ytst), list(y_probs1))))"
   ]
  },
  {
   "cell_type": "markdown",
   "metadata": {},
   "source": [
    "# <span style=\"color:#7f7053\">- ROC AUC Curve For RandomForestClassifier."
   ]
  },
  {
   "cell_type": "markdown",
   "metadata": {},
   "source": [
    "<span style=\"color:#be0119\"><b>\n",
    "--- comment ---</b>\n",
    "\n",
    "<span style=\"color:#1e488f\">The Area Under Curve score for the RandomForestClassifier is slightly better than for LR <b>0.88</b>. "
   ]
  },
  {
   "cell_type": "code",
   "execution_count": 61,
   "metadata": {},
   "outputs": [
    {
     "data": {
      "image/png": "[encoded data removed]",
      "text/plain": [
       "<matplotlib.figure.Figure at 0x22eba15fe80>"
      ]
     },
     "metadata": {},
     "output_type": "display_data"
    }
   ],
   "source": [
    "fig, ax = plt.subplots(figsize=(15,7))\n",
    "y_pred_proba2 = forest.predict_proba(X_test)[::,1]\n",
    "fpr2, tpr2, _ = metrics.roc_curve(ytst,  y_pred_proba2)\n",
    "auc2 = metrics.roc_auc_score(ytst, y_pred_proba2)\n",
    "\n",
    "plt.plot(fpr, tpr, label=\"LogisticRegression AUC = \"+str(auc), linewidth=4, color='green')\n",
    "plt.plot(fpr2, tpr2, label=\"RandomForestClassifier AUC = \"+str(auc2), linewidth=4, color='#ff5b00')\n",
    "\n",
    "plt.title('ROC AUC curve for binary classification', size = 20, color='r')\n",
    "plt.plot([0, 1], [0, 1], color='navy', lw=2, linestyle='--')\n",
    "plt.xlabel('False Positive Rate', fontsize=18)\n",
    "plt.ylabel('True Positive Rate', fontsize=18)\n",
    "plt.legend(loc=4, fontsize = 'xx-large')\n",
    "plt.show()"
   ]
  },
  {
   "cell_type": "markdown",
   "metadata": {},
   "source": [
    "# <span style=\"color:#7f7053\">- Features Importance for RF model."
   ]
  },
  {
   "cell_type": "markdown",
   "metadata": {},
   "source": [
    "<span style=\"color:#be0119\"><b>\n",
    "--- comment ---</b>\n",
    "\n",
    "<span style=\"color:#1e488f\">As we can see features I created Average Length of talking during (day, eve, night) times is more important than others."
   ]
  },
  {
   "cell_type": "code",
   "execution_count": 62,
   "metadata": {},
   "outputs": [
    {
     "data": {
      "text/html": [
       "<div>\n",
       "<style scoped>\n",
       "    .dataframe tbody tr th:only-of-type {\n",
       "        vertical-align: middle;\n",
       "    }\n",
       "\n",
       "    .dataframe tbody tr th {\n",
       "        vertical-align: top;\n",
       "    }\n",
       "\n",
       "    .dataframe thead th {\n",
       "        text-align: right;\n",
       "    }\n",
       "</style>\n",
       "<table border=\"1\" class=\"dataframe\">\n",
       "  <thead>\n",
       "    <tr style=\"text-align: right;\">\n",
       "      <th></th>\n",
       "      <th>feature</th>\n",
       "      <th>importance</th>\n",
       "    </tr>\n",
       "  </thead>\n",
       "  <tbody>\n",
       "    <tr>\n",
       "      <th>0</th>\n",
       "      <td>ALD_c</td>\n",
       "      <td>0.068037</td>\n",
       "    </tr>\n",
       "    <tr>\n",
       "      <th>58</th>\n",
       "      <td>int_plan_yes</td>\n",
       "      <td>0.067188</td>\n",
       "    </tr>\n",
       "    <tr>\n",
       "      <th>3</th>\n",
       "      <td>ALI_c</td>\n",
       "      <td>0.065794</td>\n",
       "    </tr>\n",
       "    <tr>\n",
       "      <th>2</th>\n",
       "      <td>ALN_c</td>\n",
       "      <td>0.053044</td>\n",
       "    </tr>\n",
       "    <tr>\n",
       "      <th>1</th>\n",
       "      <td>ALE_c</td>\n",
       "      <td>0.052851</td>\n",
       "    </tr>\n",
       "    <tr>\n",
       "      <th>89</th>\n",
       "      <td>Tot_day_charge_2.0</td>\n",
       "      <td>0.052769</td>\n",
       "    </tr>\n",
       "    <tr>\n",
       "      <th>64</th>\n",
       "      <td>cust_service_calls_4</td>\n",
       "      <td>0.035269</td>\n",
       "    </tr>\n",
       "    <tr>\n",
       "      <th>65</th>\n",
       "      <td>cust_service_calls_5</td>\n",
       "      <td>0.031893</td>\n",
       "    </tr>\n",
       "    <tr>\n",
       "      <th>59</th>\n",
       "      <td>voice_mail_plan_yes</td>\n",
       "      <td>0.025932</td>\n",
       "    </tr>\n",
       "    <tr>\n",
       "      <th>101</th>\n",
       "      <td>Tot_eve_charge_2.0</td>\n",
       "      <td>0.019702</td>\n",
       "    </tr>\n",
       "  </tbody>\n",
       "</table>\n",
       "</div>"
      ],
      "text/plain": [
       "                  feature  importance\n",
       "0                   ALD_c    0.068037\n",
       "58           int_plan_yes    0.067188\n",
       "3                   ALI_c    0.065794\n",
       "2                   ALN_c    0.053044\n",
       "1                   ALE_c    0.052851\n",
       "89     Tot_day_charge_2.0    0.052769\n",
       "64   cust_service_calls_4    0.035269\n",
       "65   cust_service_calls_5    0.031893\n",
       "59    voice_mail_plan_yes    0.025932\n",
       "101    Tot_eve_charge_2.0    0.019702"
      ]
     },
     "execution_count": 62,
     "metadata": {},
     "output_type": "execute_result"
    }
   ],
   "source": [
    "# Check what fitures more important for my model. \n",
    "# ________________________________________________________\n",
    "fi2 = pd.DataFrame({\n",
    "        'feature':features.columns,\n",
    "        'importance':forest.feature_importances_\n",
    "    })\n",
    "fi2.sort_values('importance', ascending=False, inplace=True)\n",
    "fi2.head(10)"
   ]
  },
  {
   "cell_type": "code",
   "execution_count": 64,
   "metadata": {},
   "outputs": [
    {
     "data": {
      "image/png": "[encoded data removed]",
      "text/plain": [
       "<matplotlib.figure.Figure at 0x22ebb8adba8>"
      ]
     },
     "metadata": {},
     "output_type": "display_data"
    }
   ],
   "source": [
    "ax = fi2.head(10).plot(kind='bar', figsize = (10,5), color=['#820747'])\n",
    "ax.set_xticklabels(fi2.feature)\n",
    "plt.ylabel('Strenght of the feature', fontsize=14, weight = 'bold', labelpad=12)\n",
    "plt.setp(ax.get_xticklabels(), fontsize=12, ha = 'right', rotation = 70, weight = 'bold')\n",
    "plt.suptitle('Features Importance for the RandomForestClassifier', size=16, color='#8f1402', weight = 'bold')\n",
    "ax.legend().set_visible(False)\n",
    "\n",
    "plt.show()"
   ]
  },
  {
   "cell_type": "markdown",
   "metadata": {},
   "source": [
    "<img src=\"img/lin.jpg\">"
   ]
  },
  {
   "cell_type": "markdown",
   "metadata": {},
   "source": [
    "[GO BACK <<](./Feature_engineering.ipynb)  "
   ]
  }
 ],
 "metadata": {
  "kernelspec": {
   "display_name": "Python 3",
   "language": "python",
   "name": "python3"
  },
  "language_info": {
   "codemirror_mode": {
    "name": "ipython",
    "version": 3
   },
   "file_extension": ".py",
   "mimetype": "text/x-python",
   "name": "python",
   "nbconvert_exporter": "python",
   "pygments_lexer": "ipython3",
   "version": "3.6.4"
  }
 },
 "nbformat": 4,
 "nbformat_minor": 2
}
